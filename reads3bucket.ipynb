{
 "cells": [
  {
   "cell_type": "code",
   "execution_count": 19,
   "metadata": {},
   "outputs": [],
   "source": [
    "import boto3\n",
    "import botocore\n",
    "import pandas as pd\n",
    "from IPython.display import display, Markdown"
   ]
  },
  {
   "cell_type": "code",
   "execution_count": 20,
   "metadata": {},
   "outputs": [],
   "source": [
    "from io import StringIO\n",
    "import os"
   ]
  },
  {
   "cell_type": "code",
   "execution_count": 1,
   "metadata": {},
   "outputs": [
    {
     "data": {
      "text/html": [
       "\n",
       "        <div>\n",
       "            <p><b>SparkContext</b></p>\n",
       "\n",
       "            <p><a href=\"http://ip-172-31-28-80.ec2.internal:4040\">Spark UI</a></p>\n",
       "\n",
       "            <dl>\n",
       "              <dt>Version</dt>\n",
       "                <dd><code>v2.4.4</code></dd>\n",
       "              <dt>Master</dt>\n",
       "                <dd><code>yarn</code></dd>\n",
       "              <dt>AppName</dt>\n",
       "                <dd><code>pyspark-shell</code></dd>\n",
       "            </dl>\n",
       "        </div>\n",
       "        "
      ],
      "text/plain": [
       "<SparkContext master=yarn appName=pyspark-shell>"
      ]
     },
     "execution_count": 1,
     "metadata": {},
     "output_type": "execute_result"
    }
   ],
   "source": [
    "#start spark session\n",
    "import findspark\n",
    "findspark.init()\n",
    "from pyspark import SparkContext\n",
    "sc=SparkContext()\n",
    "sc"
   ]
  },
  {
   "cell_type": "code",
   "execution_count": 2,
   "metadata": {},
   "outputs": [
    {
     "data": {
      "text/html": [
       "\n",
       "            <div>\n",
       "                <p><b>SparkSession - in-memory</b></p>\n",
       "                \n",
       "        <div>\n",
       "            <p><b>SparkContext</b></p>\n",
       "\n",
       "            <p><a href=\"http://ip-172-31-28-80.ec2.internal:4040\">Spark UI</a></p>\n",
       "\n",
       "            <dl>\n",
       "              <dt>Version</dt>\n",
       "                <dd><code>v2.4.4</code></dd>\n",
       "              <dt>Master</dt>\n",
       "                <dd><code>yarn</code></dd>\n",
       "              <dt>AppName</dt>\n",
       "                <dd><code>pyspark-shell</code></dd>\n",
       "            </dl>\n",
       "        </div>\n",
       "        \n",
       "            </div>\n",
       "        "
      ],
      "text/plain": [
       "<pyspark.sql.session.SparkSession at 0x7f6ad03547d0>"
      ]
     },
     "execution_count": 2,
     "metadata": {},
     "output_type": "execute_result"
    }
   ],
   "source": [
    "from pyspark.sql import SparkSession\n",
    "spark=SparkSession.builder.getOrCreate()\n",
    "spark"
   ]
  },
  {
   "cell_type": "code",
   "execution_count": 1,
   "metadata": {},
   "outputs": [],
   "source": []
  },
  {
   "cell_type": "code",
   "execution_count": 2,
   "metadata": {},
   "outputs": [
    {
     "data": {
      "text/html": [
       "\n",
       "        <div>\n",
       "            <p><b>SparkContext</b></p>\n",
       "\n",
       "            <p><a href=\"http://ip-172-31-28-80.ec2.internal:4040\">Spark UI</a></p>\n",
       "\n",
       "            <dl>\n",
       "              <dt>Version</dt>\n",
       "                <dd><code>v2.4.5</code></dd>\n",
       "              <dt>Master</dt>\n",
       "                <dd><code>local[*]</code></dd>\n",
       "              <dt>AppName</dt>\n",
       "                <dd><code>pyspark-shell</code></dd>\n",
       "            </dl>\n",
       "        </div>\n",
       "        "
      ],
      "text/plain": [
       "<SparkContext master=local[*] appName=pyspark-shell>"
      ]
     },
     "execution_count": 2,
     "metadata": {},
     "output_type": "execute_result"
    }
   ],
   "source": [
    "sc"
   ]
  },
  {
   "cell_type": "code",
   "execution_count": 21,
   "metadata": {},
   "outputs": [
    {
     "data": {
      "text/plain": [
       "s3.ServiceResource()"
      ]
     },
     "execution_count": 21,
     "metadata": {},
     "output_type": "execute_result"
    }
   ],
   "source": [
    "s3 = boto3.resource('s3')\n",
    "s3"
   ]
  },
  {
   "cell_type": "code",
   "execution_count": 22,
   "metadata": {},
   "outputs": [
    {
     "data": {
      "text/plain": [
       "s3.Bucket(name='noaa-global-hourly-pds')"
      ]
     },
     "execution_count": 22,
     "metadata": {},
     "output_type": "execute_result"
    }
   ],
   "source": [
    "bucket = s3.Bucket(name=\"noaa-global-hourly-pds\")\n",
    "bucket"
   ]
  },
  {
   "cell_type": "code",
   "execution_count": null,
   "metadata": {},
   "outputs": [],
   "source": [
    "hadoop fs -cp s3://noaa-global-hourly-pds/1901/ s3://buckets/noaa-502/"
   ]
  },
  {
   "cell_type": "markdown",
   "metadata": {},
   "source": [
    "## Get NameList"
   ]
  },
  {
   "cell_type": "code",
   "execution_count": 15,
   "metadata": {},
   "outputs": [],
   "source": [
    "srdd2=spark.read.format(\"csv\").option(\"header\", \"true\").load(\"s3://noaa-global-hourly-pds/2019/*.csv\")"
   ]
  },
  {
   "cell_type": "code",
   "execution_count": 33,
   "metadata": {},
   "outputs": [],
   "source": [
    "rdd1 = sc.textFile(\"s3://open-data-noaa/1970/*.csv\")"
   ]
  },
  {
   "cell_type": "code",
   "execution_count": 35,
   "metadata": {},
   "outputs": [
    {
     "data": {
      "text/plain": [
       "s3://open-data-noaa/1970/*.csv MapPartitionsRDD[74] at textFile at NativeMethodAccessorImpl.java:0"
      ]
     },
     "execution_count": 35,
     "metadata": {},
     "output_type": "execute_result"
    }
   ],
   "source": [
    "rdd1"
   ]
  },
  {
   "cell_type": "code",
   "execution_count": 10,
   "metadata": {},
   "outputs": [
    {
     "data": {
      "text/plain": [
       "[Row(STATION='02907099999', DATE='1901-01-01T06:00:00', SOURCE='4', LATITUDE='64.3333333', LONGITUDE='23.45', ELEVATION='5.0', NAME='KALAJOKI ULKOKALLA, FI', REPORT_TYPE='FM-12', CALL_SIGN='99999', QUALITY_CONTROL='V020', WND='270,1,N,0159,1', CIG='99999,9,9,N', VIS='000000,1,N,9', TMP='-0078,1', DEW='+9999,9', SLP='10200,1', GF1='08,99,1,99,9,99,9,99999,9,99,9,99,9', MW1=None),\n",
       " Row(STATION='02907099999', DATE='1901-01-01T13:00:00', SOURCE='4', LATITUDE='64.3333333', LONGITUDE='23.45', ELEVATION='5.0', NAME='KALAJOKI ULKOKALLA, FI', REPORT_TYPE='FM-12', CALL_SIGN='99999', QUALITY_CONTROL='V020', WND='290,1,N,0082,1', CIG='99999,9,9,N', VIS='000000,1,N,9', TMP='-0072,1', DEW='+9999,9', SLP='10200,1', GF1='04,99,1,99,9,99,9,99999,9,99,9,99,9', MW1=None)]"
      ]
     },
     "execution_count": 10,
     "metadata": {},
     "output_type": "execute_result"
    }
   ],
   "source": [
    "srdd3.take(2)"
   ]
  },
  {
   "cell_type": "code",
   "execution_count": 54,
   "metadata": {},
   "outputs": [
    {
     "data": {
      "text/plain": [
       "135944480"
      ]
     },
     "execution_count": 54,
     "metadata": {},
     "output_type": "execute_result"
    }
   ],
   "source": [
    "srdd2.count()"
   ]
  },
  {
   "cell_type": "code",
   "execution_count": 8,
   "metadata": {},
   "outputs": [
    {
     "data": {
      "text/plain": [
       "6565"
      ]
     },
     "execution_count": 8,
     "metadata": {},
     "output_type": "execute_result"
    }
   ],
   "source": [
    "srdd.count()"
   ]
  },
  {
   "cell_type": "code",
   "execution_count": 17,
   "metadata": {},
   "outputs": [
    {
     "data": {
      "text/plain": [
       "DataFrame[STATION: string, DATE: string, SOURCE: string, LATITUDE: string, LONGITUDE: string, ELEVATION: string, NAME: string, REPORT_TYPE: string, CALL_SIGN: string, QUALITY_CONTROL: string, WND: string, CIG: string, VIS: string, TMP: string, DEW: string, SLP: string, GF1: string, MW1: string]"
      ]
     },
     "execution_count": 17,
     "metadata": {},
     "output_type": "execute_result"
    }
   ],
   "source": [
    "srdd"
   ]
  },
  {
   "cell_type": "code",
   "execution_count": 23,
   "metadata": {},
   "outputs": [
    {
     "name": "stdout",
     "output_type": "stream",
     "text": [
      "noaa-global-hourly-pds/1901/02907099999.csv\n",
      "noaa-global-hourly-pds/1901/02950099999.csv\n",
      "noaa-global-hourly-pds/1901/02960099999.csv\n",
      "noaa-global-hourly-pds/1901/02972099999.csv\n",
      "noaa-global-hourly-pds/1901/02981099999.csv\n",
      "noaa-global-hourly-pds/1901/22707099999.csv\n"
     ]
    },
    {
     "data": {
      "text/plain": [
       "['s3://noaa-global-hourly-pds/1901/02907099999.csv',\n",
       " 's3://noaa-global-hourly-pds/1901/02950099999.csv',\n",
       " 's3://noaa-global-hourly-pds/1901/02960099999.csv',\n",
       " 's3://noaa-global-hourly-pds/1901/02972099999.csv',\n",
       " 's3://noaa-global-hourly-pds/1901/02981099999.csv',\n",
       " 's3://noaa-global-hourly-pds/1901/22707099999.csv']"
      ]
     },
     "execution_count": 23,
     "metadata": {},
     "output_type": "execute_result"
    }
   ],
   "source": [
    "prefix = \"1901/\"\n",
    "FilesNotFound = True\n",
    "FileNameList=[]\n",
    "for obj in bucket.objects.filter(Prefix=prefix):\n",
    "    FileNameList.append('{0}{1}/{2}'.format('s3://',bucket.name, obj.key))\n",
    "    print('{0}/{1}'.format(bucket.name, obj.key))\n",
    "    FilesNotFound = False\n",
    "if FilesNotFound:\n",
    "     print(\"ALERT\", \"No file in {0}/{1}\".format(bucket, prefix))\n",
    "\n",
    "FileNameList"
   ]
  },
  {
   "cell_type": "code",
   "execution_count": 44,
   "metadata": {},
   "outputs": [
    {
     "data": {
      "text/plain": [
       "'s3://noaa-global-hourly-pds/1901/02950099999.csv'"
      ]
     },
     "execution_count": 44,
     "metadata": {},
     "output_type": "execute_result"
    }
   ],
   "source": [
    "FileNameList[1]"
   ]
  },
  {
   "cell_type": "code",
   "execution_count": 24,
   "metadata": {},
   "outputs": [],
   "source": [
    "rdd = sc.textFile(FileNameList[1])\n",
    "#rdd = sc.textFile(\"s3://noaa-global-hourly-pds/1931/12195099999.csv\")"
   ]
  },
  {
   "cell_type": "code",
   "execution_count": 46,
   "metadata": {},
   "outputs": [
    {
     "data": {
      "text/plain": [
       "['\"STATION\",\"DATE\",\"SOURCE\",\"LATITUDE\",\"LONGITUDE\",\"ELEVATION\",\"NAME\",\"REPORT_TYPE\",\"CALL_SIGN\",\"QUALITY_CONTROL\",\"WND\",\"CIG\",\"VIS\",\"TMP\",\"DEW\",\"SLP\",\"GF1\"',\n",
       " '\"02950099999\",\"1901-01-01T06:00:00\",\"4\",\"60.1166666\",\"21.7\",\"4.5\",\"PARAINEN FAGERHOLM, FI\",\"FM-12\",\"99999\",\"V020\",\"140,1,N,0041,1\",\"99999,9,9,N\",\"000000,1,N,9\",\"-0144,1\",\"+9999,9\",\"10271,1\",\"08,99,1,99,9,99,9,99999,9,99,9,99,9\"',\n",
       " '\"02950099999\",\"1901-01-01T13:00:00\",\"4\",\"60.1166666\",\"21.7\",\"4.5\",\"PARAINEN FAGERHOLM, FI\",\"FM-12\",\"99999\",\"V020\",\"200,1,N,0139,1\",\"99999,9,9,N\",\"000000,1,N,9\",\"-0100,1\",\"+9999,9\",\"10259,1\",\"08,99,1,99,9,99,9,99999,9,99,9,99,9\"',\n",
       " '\"02950099999\",\"1901-01-01T20:00:00\",\"4\",\"60.1166666\",\"21.7\",\"4.5\",\"PARAINEN FAGERHOLM, FI\",\"FM-12\",\"99999\",\"V020\",\"200,1,N,0159,1\",\"99999,9,9,N\",\"000000,1,N,9\",\"-0067,1\",\"+9999,9\",\"10239,1\",\"05,99,1,99,9,99,9,99999,9,99,9,99,9\"',\n",
       " '\"02950099999\",\"1901-01-02T06:00:00\",\"4\",\"60.1166666\",\"21.7\",\"4.5\",\"PARAINEN FAGERHOLM, FI\",\"FM-12\",\"99999\",\"V020\",\"250,1,N,0139,1\",\"99999,9,9,N\",\"000000,1,N,9\",\"-0039,1\",\"+9999,9\",\"10219,1\",\"08,99,1,99,9,99,9,99999,9,99,9,99,9\"']"
      ]
     },
     "execution_count": 46,
     "metadata": {},
     "output_type": "execute_result"
    }
   ],
   "source": [
    "rdd.take(5)"
   ]
  },
  {
   "cell_type": "code",
   "execution_count": 54,
   "metadata": {},
   "outputs": [
    {
     "data": {
      "text/plain": [
       "1096"
      ]
     },
     "execution_count": 54,
     "metadata": {},
     "output_type": "execute_result"
    }
   ],
   "source": [
    "rdd.count()"
   ]
  },
  {
   "cell_type": "code",
   "execution_count": 70,
   "metadata": {},
   "outputs": [
    {
     "data": {
      "text/plain": [
       "2192"
      ]
     },
     "execution_count": 70,
     "metadata": {},
     "output_type": "execute_result"
    }
   ],
   "source": [
    "rdd.union(rdd2).count()"
   ]
  },
  {
   "cell_type": "code",
   "execution_count": 80,
   "metadata": {},
   "outputs": [
    {
     "data": {
      "text/plain": [
       "range(1, 6)"
      ]
     },
     "execution_count": 80,
     "metadata": {},
     "output_type": "execute_result"
    }
   ],
   "source": [
    "len(FileNameList)\n",
    "range(1,len(FileNameList))"
   ]
  },
  {
   "cell_type": "code",
   "execution_count": 36,
   "metadata": {},
   "outputs": [
    {
     "name": "stdout",
     "output_type": "stream",
     "text": [
      "s3://noaa-global-hourly-pds/1901/02950099999.csv\n",
      "s3://noaa-global-hourly-pds/1901/02960099999.csv\n",
      "s3://noaa-global-hourly-pds/1901/02972099999.csv\n",
      "s3://noaa-global-hourly-pds/1901/02981099999.csv\n",
      "s3://noaa-global-hourly-pds/1901/22707099999.csv\n"
     ]
    },
    {
     "data": {
      "text/plain": [
       "6571"
      ]
     },
     "execution_count": 36,
     "metadata": {},
     "output_type": "execute_result"
    }
   ],
   "source": [
    "i=1\n",
    "rdd_all=rdd\n",
    "for i in range(1,len(FileNameList)):\n",
    "    print(FileNameList[i])\n",
    "    rdd_sep=sc.textFile(FileNameList[i])\n",
    "    rdd_all=rdd_all.union(rdd_sep)\n",
    "    \n",
    "rdd_sep\n",
    "rdd_all.count()\n",
    "    \n",
    "    "
   ]
  },
  {
   "cell_type": "code",
   "execution_count": null,
   "metadata": {},
   "outputs": [],
   "source": []
  },
  {
   "cell_type": "code",
   "execution_count": 85,
   "metadata": {},
   "outputs": [
    {
     "data": {
      "text/plain": [
       "['\"STATION\",\"DATE\",\"SOURCE\",\"LATITUDE\",\"LONGITUDE\",\"ELEVATION\",\"NAME\",\"REPORT_TYPE\",\"CALL_SIGN\",\"QUALITY_CONTROL\",\"WND\",\"CIG\",\"VIS\",\"TMP\",\"DEW\",\"SLP\",\"GF1\"',\n",
       " '\"02950099999\",\"1901-01-01T06:00:00\",\"4\",\"60.1166666\",\"21.7\",\"4.5\",\"PARAINEN FAGERHOLM, FI\",\"FM-12\",\"99999\",\"V020\",\"140,1,N,0041,1\",\"99999,9,9,N\",\"000000,1,N,9\",\"-0144,1\",\"+9999,9\",\"10271,1\",\"08,99,1,99,9,99,9,99999,9,99,9,99,9\"',\n",
       " '\"02950099999\",\"1901-01-01T13:00:00\",\"4\",\"60.1166666\",\"21.7\",\"4.5\",\"PARAINEN FAGERHOLM, FI\",\"FM-12\",\"99999\",\"V020\",\"200,1,N,0139,1\",\"99999,9,9,N\",\"000000,1,N,9\",\"-0100,1\",\"+9999,9\",\"10259,1\",\"08,99,1,99,9,99,9,99999,9,99,9,99,9\"',\n",
       " '\"02950099999\",\"1901-01-01T20:00:00\",\"4\",\"60.1166666\",\"21.7\",\"4.5\",\"PARAINEN FAGERHOLM, FI\",\"FM-12\",\"99999\",\"V020\",\"200,1,N,0159,1\",\"99999,9,9,N\",\"000000,1,N,9\",\"-0067,1\",\"+9999,9\",\"10239,1\",\"05,99,1,99,9,99,9,99999,9,99,9,99,9\"',\n",
       " '\"02950099999\",\"1901-01-02T06:00:00\",\"4\",\"60.1166666\",\"21.7\",\"4.5\",\"PARAINEN FAGERHOLM, FI\",\"FM-12\",\"99999\",\"V020\",\"250,1,N,0139,1\",\"99999,9,9,N\",\"000000,1,N,9\",\"-0039,1\",\"+9999,9\",\"10219,1\",\"08,99,1,99,9,99,9,99999,9,99,9,99,9\"']"
      ]
     },
     "execution_count": 85,
     "metadata": {},
     "output_type": "execute_result"
    }
   ],
   "source": [
    "rdd_all.take(5)"
   ]
  },
  {
   "cell_type": "code",
   "execution_count": 39,
   "metadata": {},
   "outputs": [],
   "source": [
    "rdd_all.repartition(1).saveAsTextFile(\"s3://noaa-502/2/1901.csv\")"
   ]
  },
  {
   "cell_type": "code",
   "execution_count": 40,
   "metadata": {},
   "outputs": [],
   "source": [
    "df=spark.read.format(\"csv\").option(\"header\", \"true\").load(\"s3://noaa-502/2/1901.csv\")"
   ]
  },
  {
   "cell_type": "code",
   "execution_count": 41,
   "metadata": {},
   "outputs": [
    {
     "data": {
      "text/plain": [
       "DataFrame[STATION: string, DATE: string, SOURCE: string, LATITUDE: string, LONGITUDE: string, ELEVATION: string, NAME: string, REPORT_TYPE: string, CALL_SIGN: string, QUALITY_CONTROL: string, WND: string, CIG: string, VIS: string, TMP: string, DEW: string, SLP: string, GF1: string]"
      ]
     },
     "execution_count": 41,
     "metadata": {},
     "output_type": "execute_result"
    }
   ],
   "source": [
    "df"
   ]
  },
  {
   "cell_type": "code",
   "execution_count": 42,
   "metadata": {},
   "outputs": [],
   "source": [
    "df.write.csv(\"s3://noaa-502/3\", sep=',', header=True,mode=\"overwrite\")"
   ]
  },
  {
   "cell_type": "code",
   "execution_count": 45,
   "metadata": {},
   "outputs": [
    {
     "data": {
      "text/plain": [
       "['s3://noaa-global-hourly-pds/1901/02981099999.csv',\n",
       " 's3://noaa-global-hourly-pds/1901/02950099999.csv']"
      ]
     },
     "execution_count": 45,
     "metadata": {},
     "output_type": "execute_result"
    }
   ],
   "source": [
    "import random\n",
    "desired_pct = 10\n",
    "#file_sample = random.sample(FileNameList, int(len(file_list) * desired_pct / 100))\n",
    "file_sample = random.sample(FileNameList, 2)\n",
    "len(file_sample)\n",
    "file_sample"
   ]
  },
  {
   "cell_type": "code",
   "execution_count": 47,
   "metadata": {},
   "outputs": [
    {
     "name": "stdout",
     "output_type": "stream",
     "text": [
      "s3://noaa-global-hourly-pds/1901/02981099999.csv\n",
      "s3://noaa-global-hourly-pds/1901/02950099999.csv\n"
     ]
    },
    {
     "data": {
      "text/plain": [
       "6571"
      ]
     },
     "execution_count": 47,
     "metadata": {},
     "output_type": "execute_result"
    }
   ],
   "source": [
    "i=0\n",
    "sample_rdd = sc.emptyRDD()\n",
    "for i in range(0,len(file_sample)):\n",
    "    print(file_sample[i])\n",
    "    rdd_sep=sc.textFile(file_sample[i])\n",
    "    sample_rdd=sample_rdd.union(rdd_sep)\n",
    "    \n",
    "rdd_sep\n",
    "rdd_all.count()"
   ]
  },
  {
   "cell_type": "markdown",
   "metadata": {},
   "source": [
    "## Try Data 2019"
   ]
  },
  {
   "cell_type": "code",
   "execution_count": 48,
   "metadata": {},
   "outputs": [
    {
     "data": {
      "text/plain": [
       "6"
      ]
     },
     "execution_count": 48,
     "metadata": {},
     "output_type": "execute_result"
    }
   ],
   "source": [
    "prefix = \"2019/\"\n",
    "FilesNotFound = True\n",
    "FileName2019=[]\n",
    "for obj in bucket.objects.filter(Prefix=prefix):\n",
    "    FileName2019.append('{0}{1}/{2}'.format('s3://',bucket.name, obj.key))\n",
    "    #print('{0}/{1}'.format(bucket.name, obj.key))\n",
    "    FilesNotFound = False\n",
    "if FilesNotFound:\n",
    "     print(\"ALERT\", \"No file in {0}/{1}\".format(bucket, prefix))\n",
    "\n",
    "len(FileName2019)"
   ]
  },
  {
   "cell_type": "code",
   "execution_count": 49,
   "metadata": {},
   "outputs": [
    {
     "data": {
      "text/plain": [
       "13883"
      ]
     },
     "execution_count": 49,
     "metadata": {},
     "output_type": "execute_result"
    }
   ],
   "source": [
    "len(FileName2019)"
   ]
  },
  {
   "cell_type": "code",
   "execution_count": 84,
   "metadata": {},
   "outputs": [
    {
     "data": {
      "text/plain": [
       "173"
      ]
     },
     "execution_count": 84,
     "metadata": {},
     "output_type": "execute_result"
    }
   ],
   "source": [
    "#Sample\n",
    "import random\n",
    "desired_pct = 10\n",
    "file_sample_2019 = random.sample(FileName2019, int(len(FileName2019) * desired_pct / 800))\n",
    "#file_sample_2019 = random.sample(FileNameList, 2)\n",
    "len(file_sample_2019)"
   ]
  },
  {
   "cell_type": "code",
   "execution_count": 85,
   "metadata": {},
   "outputs": [],
   "source": [
    "#Merge\n",
    "i=0\n",
    "sample_rdd2019 = sc.emptyRDD()\n",
    "for i in range(0,len(file_sample_2019)):\n",
    "    #print(file_sample[i])\n",
    "    rdd_sep=sc.textFile(file_sample_2019[i])\n",
    "    sample_rdd2019=sample_rdd2019.union(rdd_sep)\n",
    "    \n",
    "#rdd_sep\n"
   ]
  },
  {
   "cell_type": "code",
   "execution_count": 86,
   "metadata": {},
   "outputs": [
    {
     "data": {
      "text/plain": [
       "UnionRDD[30113] at union at <unknown>:0"
      ]
     },
     "execution_count": 86,
     "metadata": {},
     "output_type": "execute_result"
    }
   ],
   "source": [
    "sample_rdd2019"
   ]
  },
  {
   "cell_type": "code",
   "execution_count": 71,
   "metadata": {},
   "outputs": [],
   "source": [
    "#sample_rdd2019.count()"
   ]
  },
  {
   "cell_type": "code",
   "execution_count": 68,
   "metadata": {},
   "outputs": [
    {
     "data": {
      "text/plain": [
       "UnionRDD[90] at union at NativeMethodAccessorImpl.java:0"
      ]
     },
     "execution_count": 68,
     "metadata": {},
     "output_type": "execute_result"
    }
   ],
   "source": [
    "rdd_all"
   ]
  },
  {
   "cell_type": "code",
   "execution_count": 55,
   "metadata": {},
   "outputs": [
    {
     "data": {
      "text/plain": [
       "s3://noaa-global-hourly-pds/2019/64222099999.csv MapPartitionsRDD[11255] at textFile at <unknown>:0"
      ]
     },
     "execution_count": 55,
     "metadata": {},
     "output_type": "execute_result"
    }
   ],
   "source": [
    "rdd_sep"
   ]
  },
  {
   "cell_type": "code",
   "execution_count": 87,
   "metadata": {},
   "outputs": [],
   "source": [
    "#Save rdd\n",
    "sample_rdd2019.repartition(1).saveAsTextFile(\"s3://open-data-noaa/2019sample\")"
   ]
  },
  {
   "cell_type": "code",
   "execution_count": 88,
   "metadata": {},
   "outputs": [],
   "source": [
    "#Save as csv\n",
    "df=spark.read.format(\"csv\").option(\"header\", \"true\").load(\"s3://open-data-noaa/2019sample\")"
   ]
  },
  {
   "cell_type": "code",
   "execution_count": 89,
   "metadata": {},
   "outputs": [],
   "source": [
    "df.write.csv(\"s3://open-data-noaa/2019samples\", sep=',', header=True,mode=\"overwrite\")"
   ]
  },
  {
   "cell_type": "markdown",
   "metadata": {},
   "source": [
    "**delete header rows**"
   ]
  },
  {
   "cell_type": "code",
   "execution_count": 84,
   "metadata": {},
   "outputs": [
    {
     "data": {
      "text/plain": [
       "6570"
      ]
     },
     "execution_count": 84,
     "metadata": {},
     "output_type": "execute_result"
    }
   ],
   "source": [
    "# 对上述结果筛选掉一些常见的介词，如\n",
    "# header_words = ['\"STATION\",\"DATE\",\"SOURCE\",\"LATITUDE\",\"LONGITUDE\",\"ELEVATION\",\"NAME\",\"REPORT_TYPE\",\"CALL_SIGN\",\"QUALITY_CONTROL\",\"WND\",\"CIG\",\"VIS\",\"TMP\",\"DEW\",\"SLP\",\"GF1\",\"MW1\"']\n",
    "# clean_rdd = rdd_all.filter(lambda w: w not in header_words)\n",
    "# clean_rdd.count()"
   ]
  },
  {
   "cell_type": "code",
   "execution_count": 92,
   "metadata": {},
   "outputs": [],
   "source": [
    "data = spark.read\\\n",
    "  .format('csv')\\\n",
    "  .option('header', 'true')\\\n",
    "  .option('inferSchema', 'true')\\\n",
    "  .load(\"s3://open-data-noaa/2019samples\")"
   ]
  },
  {
   "cell_type": "code",
   "execution_count": 100,
   "metadata": {},
   "outputs": [],
   "source": [
    "data1 = spark.read\\\n",
    "  .format('csv')\\\n",
    "  .option('header', 'false')\\\n",
    "  .option('inferSchema', 'true')\\\n",
    "  .load(\"s3://open-data-noaa/2019samples\")"
   ]
  },
  {
   "cell_type": "code",
   "execution_count": 102,
   "metadata": {},
   "outputs": [
    {
     "name": "stdout",
     "output_type": "stream",
     "text": [
      "root\n",
      " |-- _c0: string (nullable = true)\n",
      " |-- _c1: string (nullable = true)\n",
      " |-- _c2: string (nullable = true)\n",
      " |-- _c3: string (nullable = true)\n",
      " |-- _c4: string (nullable = true)\n",
      " |-- _c5: string (nullable = true)\n",
      " |-- _c6: string (nullable = true)\n",
      " |-- _c7: string (nullable = true)\n",
      " |-- _c8: string (nullable = true)\n",
      " |-- _c9: string (nullable = true)\n",
      " |-- _c10: string (nullable = true)\n",
      " |-- _c11: string (nullable = true)\n",
      " |-- _c12: string (nullable = true)\n",
      " |-- _c13: string (nullable = true)\n",
      " |-- _c14: string (nullable = true)\n",
      " |-- _c15: string (nullable = true)\n",
      " |-- _c16: string (nullable = true)\n",
      " |-- _c17: string (nullable = true)\n",
      " |-- _c18: string (nullable = true)\n",
      " |-- _c19: string (nullable = true)\n",
      " |-- _c20: string (nullable = true)\n",
      " |-- _c21: string (nullable = true)\n",
      " |-- _c22: string (nullable = true)\n",
      " |-- _c23: string (nullable = true)\n",
      " |-- _c24: string (nullable = true)\n",
      " |-- _c25: string (nullable = true)\n",
      " |-- _c26: string (nullable = true)\n",
      " |-- _c27: string (nullable = true)\n",
      " |-- _c28: string (nullable = true)\n",
      " |-- _c29: string (nullable = true)\n",
      " |-- _c30: string (nullable = true)\n",
      " |-- _c31: string (nullable = true)\n",
      " |-- _c32: string (nullable = true)\n",
      " |-- _c33: string (nullable = true)\n",
      " |-- _c34: string (nullable = true)\n",
      "\n"
     ]
    }
   ],
   "source": [
    "data1.printSchema()"
   ]
  },
  {
   "cell_type": "code",
   "execution_count": 103,
   "metadata": {},
   "outputs": [
    {
     "name": "stdout",
     "output_type": "stream",
     "text": [
      "+-----------+-------------------+---+----------+-----------+-----+--------------------+-----+-----+----+--------------+-----------+------------+---------+---------+-------+-----------+-----------+-----------+----+----+------------------+------------------+------------------+---------------+--------------------+--------------------+----+--------------------+----+----------------+----+----+--------------------+----+\n",
      "|        _c0|                _c1|_c2|       _c3|        _c4|  _c5|                 _c6|  _c7|  _c8| _c9|          _c10|       _c11|        _c12|     _c13|     _c14|   _c15|       _c16|       _c17|       _c18|_c19|_c20|              _c21|              _c22|              _c23|           _c24|                _c25|                _c26|_c27|                _c28|_c29|            _c30|_c31|_c32|                _c33|_c34|\n",
      "+-----------+-------------------+---+----------+-----------+-----+--------------------+-----+-----+----+--------------+-----------+------------+---------+---------+-------+-----------+-----------+-----------+----+----+------------------+------------------+------------------+---------------+--------------------+--------------------+----+--------------------+----+----------------+----+----+--------------------+----+\n",
      "|43314099999|2019-07-10T00:00:00|  4|     11.25| 75.7833333|  5.0|       KOZHIKODE, IN|FM-12|99999|V020|999,9,C,0000,1|99999,9,9,N|004000,1,9,9|+0228,113|+0228,114|10078,1|21,0800,3,1|   6,1,02,1|   2,1,02,1|_c19|_c20|03,1,+00800,1,06,1|99,9,+99999,9,03,1|99,9,+99999,9,00,1|           _c24|9,MSL   ,+99999,+...|07,99,1,03,1,99,9...|_c27|                _c28|_c29|9,9,999,9,-005,1|02,1|_c32|SYN06443314 21596...|_c34|\n",
      "|71846099999|2019-09-02T02:00:00|  4|52.1833333|-87.9333333|253.0|LANSDOWNE HOUSE A...|  SAO|99999|V020|340,1,9,0015,1|99999,9,9,9|999999,9,9,9|  +0061,1|  +0031,1|10180,1|       null|       null|       null|null|null|              null|              null|              null|99999,9,09869,5|    1,1,025,1,+999,9|                null|null|AWY052WLF SA 0200...|null|            null|null|null|                null|null|\n",
      "|71846099999|2019-09-02T03:00:00|  4|52.1833333|-87.9333333|253.0|LANSDOWNE HOUSE A...|FM-12|99999|V020|323,1,N,0011,1|99999,9,9,9|999999,9,9,9|  +0062,1|  +0037,1|10185,1|01,9999,9,9|06,9999,9,9|24,0002,3,1|null|null|              null|              null|              null|99999,9,09875,1|    1,1,019,1,+999,9|                null|null|          SYN004BUFR|null|            null|null|null|                null|null|\n",
      "|71846099999|2019-09-02T03:00:00|  4|52.1833333|-87.9333333|253.0|LANSDOWNE HOUSE A...|  SAO|99999|V020|320,1,9,0010,1|99999,9,9,9|999999,9,9,9|  +0061,1|  +0037,1|10185,1|       null|       null|       null|null|null|              null|              null|              null|99999,9,09874,5|    1,1,019,1,+999,9|                null|null|AWY052WLF SA 0300...|null|            null|null|null|                null|null|\n",
      "|71846099999|2019-09-02T04:00:00|  4|52.1833333|-87.9333333|253.0|LANSDOWNE HOUSE A...|  SAO|99999|V020|310,1,9,0015,1|99999,9,9,9|999999,9,9,9|  +0062,1|  +0034,1|10190,1|       null|       null|       null|null|null|              null|              null|              null|99999,9,09879,5|    2,1,016,1,+999,9|                null|null|AWY052WLF SA 0400...|null|            null|null|null|                null|null|\n",
      "+-----------+-------------------+---+----------+-----------+-----+--------------------+-----+-----+----+--------------+-----------+------------+---------+---------+-------+-----------+-----------+-----------+----+----+------------------+------------------+------------------+---------------+--------------------+--------------------+----+--------------------+----+----------------+----+----+--------------------+----+\n",
      "only showing top 5 rows\n",
      "\n"
     ]
    }
   ],
   "source": [
    "data1.show(5)"
   ]
  },
  {
   "cell_type": "code",
   "execution_count": 110,
   "metadata": {},
   "outputs": [
    {
     "data": {
      "text/plain": [
       "1426323"
      ]
     },
     "execution_count": 110,
     "metadata": {},
     "output_type": "execute_result"
    }
   ],
   "source": [
    "data1.count()"
   ]
  },
  {
   "cell_type": "code",
   "execution_count": 111,
   "metadata": {},
   "outputs": [
    {
     "data": {
      "text/plain": [
       "173"
      ]
     },
     "execution_count": 111,
     "metadata": {},
     "output_type": "execute_result"
    }
   ],
   "source": [
    "data1.where('_c0==\"STATION\"').count()"
   ]
  },
  {
   "cell_type": "code",
   "execution_count": 112,
   "metadata": {},
   "outputs": [],
   "source": [
    "data2=data1.where('_c0!=\"STATION\"')"
   ]
  },
  {
   "cell_type": "code",
   "execution_count": 113,
   "metadata": {},
   "outputs": [
    {
     "data": {
      "text/plain": [
       "1426150"
      ]
     },
     "execution_count": 113,
     "metadata": {},
     "output_type": "execute_result"
    }
   ],
   "source": [
    "data2.count()"
   ]
  },
  {
   "cell_type": "code",
   "execution_count": 148,
   "metadata": {},
   "outputs": [
    {
     "ename": "SyntaxError",
     "evalue": "invalid syntax (<ipython-input-148-26a74203e16a>, line 3)",
     "output_type": "error",
     "traceback": [
      "\u001b[0;36m  File \u001b[0;32m\"<ipython-input-148-26a74203e16a>\"\u001b[0;36m, line \u001b[0;32m3\u001b[0m\n\u001b[0;31m    import org.apache.spark.sql.{SQLContext, Row, DataFrame, Column}\u001b[0m\n\u001b[0m                                ^\u001b[0m\n\u001b[0;31mSyntaxError\u001b[0m\u001b[0;31m:\u001b[0m invalid syntax\n"
     ]
    }
   ],
   "source": [
    "import org.apache.spark.sql.SparkSession\n",
    "import org.apache.spark.sql.functions._\n",
    "import org.apache.spark.sql.{SQLContext, Row, DataFrame, Column}\n",
    "import org.apache.spark.ml.feature.VectorAssembler"
   ]
  },
  {
   "cell_type": "code",
   "execution_count": 159,
   "metadata": {},
   "outputs": [],
   "source": [
    "from pyspark.sql import SparkSession\n",
    "#from pyspark.sql import functions._\n",
    "#import pyspark.spark.sql.{SQLContext, Row, DataFrame, Column}\n",
    "from pyspark.sql import Row,DataFrame,Column\n",
    "from pyspark.sql import SQLContext\n",
    "#from pyspark.ml import feature.VectorAssembler"
   ]
  },
  {
   "cell_type": "code",
   "execution_count": 160,
   "metadata": {},
   "outputs": [
    {
     "ename": "NameError",
     "evalue": "name 'Seq' is not defined",
     "output_type": "error",
     "traceback": [
      "\u001b[0;31m---------------------------------------------------------------------------\u001b[0m",
      "\u001b[0;31mNameError\u001b[0m                                 Traceback (most recent call last)",
      "\u001b[0;32m<ipython-input-160-035eac7bbcc7>\u001b[0m in \u001b[0;36m<module>\u001b[0;34m\u001b[0m\n\u001b[0;32m----> 1\u001b[0;31m \u001b[0mnewColumns\u001b[0m \u001b[0;34m=\u001b[0m \u001b[0mSeq\u001b[0m\u001b[0;34m(\u001b[0m\u001b[0;34m\"STATION\"\u001b[0m\u001b[0;34m,\u001b[0m\u001b[0;34m\"DATE\"\u001b[0m\u001b[0;34m,\u001b[0m\u001b[0;34m\"SOURCE\"\u001b[0m\u001b[0;34m,\u001b[0m\u001b[0;34m\"LATITUDE\"\u001b[0m\u001b[0;34m,\u001b[0m\u001b[0;34m\"LONGITUDE\"\u001b[0m\u001b[0;34m,\u001b[0m\u001b[0;34m\"ELEVATION\"\u001b[0m\u001b[0;34m,\u001b[0m\u001b[0;34m\"NAME\"\u001b[0m\u001b[0;34m,\u001b[0m\u001b[0;34m\"REPORT_TYPE\"\u001b[0m\u001b[0;34m,\u001b[0m \u001b[0;34m\"CALL_SIGN\"\u001b[0m\u001b[0;34m,\u001b[0m\u001b[0;34m\"QUALITY_CONTROL\"\u001b[0m\u001b[0;34m,\u001b[0m\u001b[0;34m\"WND\"\u001b[0m\u001b[0;34m,\u001b[0m\u001b[0;34m\"CIG\"\u001b[0m\u001b[0;34m,\u001b[0m\u001b[0;34m\"VIS\"\u001b[0m\u001b[0;34m,\u001b[0m\u001b[0;34m\"TMP\"\u001b[0m\u001b[0;34m,\u001b[0m\u001b[0;34m\"DEW\"\u001b[0m\u001b[0;34m,\u001b[0m\u001b[0;34m\"SLP\"\u001b[0m\u001b[0;34m,\u001b[0m\u001b[0;34m\"GF1\"\u001b[0m\u001b[0;34m)\u001b[0m\u001b[0;34m\u001b[0m\u001b[0;34m\u001b[0m\u001b[0m\n\u001b[0m\u001b[1;32m      2\u001b[0m \u001b[0;31m#val data2 = data2.toDF(newColumns:_*)\u001b[0m\u001b[0;34m\u001b[0m\u001b[0;34m\u001b[0m\u001b[0;34m\u001b[0m\u001b[0m\n",
      "\u001b[0;31mNameError\u001b[0m: name 'Seq' is not defined"
     ]
    }
   ],
   "source": [
    "newColumns = Seq(\"STATION\",\"DATE\",\"SOURCE\",\"LATITUDE\",\"LONGITUDE\",\"ELEVATION\",\"NAME\",\"REPORT_TYPE\", \"CALL_SIGN\",\"QUALITY_CONTROL\",\"WND\",\"CIG\",\"VIS\",\"TMP\",\"DEW\",\"SLP\",\"GF1\")\n",
    "#val data2 = data2.toDF(newColumns:_*)"
   ]
  },
  {
   "cell_type": "code",
   "execution_count": null,
   "metadata": {},
   "outputs": [],
   "source": [
    "newColumns"
   ]
  },
  {
   "cell_type": "code",
   "execution_count": 118,
   "metadata": {},
   "outputs": [
    {
     "ename": "TypeError",
     "evalue": "withColumnRenamed() takes 3 positional arguments but 18 were given",
     "output_type": "error",
     "traceback": [
      "\u001b[0;31m---------------------------------------------------------------------------\u001b[0m",
      "\u001b[0;31mTypeError\u001b[0m                                 Traceback (most recent call last)",
      "\u001b[0;32m<ipython-input-118-3c4a05ca8112>\u001b[0m in \u001b[0;36m<module>\u001b[0;34m\u001b[0m\n\u001b[0;32m----> 1\u001b[0;31m \u001b[0mdata2\u001b[0m\u001b[0;34m.\u001b[0m\u001b[0mwithColumnRenamed\u001b[0m\u001b[0;34m(\u001b[0m\u001b[0;34m\"STATION\"\u001b[0m\u001b[0;34m,\u001b[0m\u001b[0;34m\"DATE\"\u001b[0m\u001b[0;34m,\u001b[0m\u001b[0;34m\"SOURCE\"\u001b[0m\u001b[0;34m,\u001b[0m\u001b[0;34m\"LATITUDE\"\u001b[0m\u001b[0;34m,\u001b[0m\u001b[0;34m\"LONGITUDE\"\u001b[0m\u001b[0;34m,\u001b[0m\u001b[0;34m\"ELEVATION\"\u001b[0m\u001b[0;34m,\u001b[0m\u001b[0;34m\"NAME\"\u001b[0m\u001b[0;34m,\u001b[0m\u001b[0;34m\"REPORT_TYPE\"\u001b[0m\u001b[0;34m,\u001b[0m \u001b[0;34m\"CALL_SIGN\"\u001b[0m\u001b[0;34m,\u001b[0m\u001b[0;34m\"QUALITY_CONTROL\"\u001b[0m\u001b[0;34m,\u001b[0m\u001b[0;34m\"WND\"\u001b[0m\u001b[0;34m,\u001b[0m\u001b[0;34m\"CIG\"\u001b[0m\u001b[0;34m,\u001b[0m\u001b[0;34m\"VIS\"\u001b[0m\u001b[0;34m,\u001b[0m\u001b[0;34m\"TMP\"\u001b[0m\u001b[0;34m,\u001b[0m\u001b[0;34m\"DEW\"\u001b[0m\u001b[0;34m,\u001b[0m\u001b[0;34m\"SLP\"\u001b[0m\u001b[0;34m,\u001b[0m\u001b[0;34m\"GF1\"\u001b[0m\u001b[0;34m)\u001b[0m\u001b[0;31m\\\u001b[0m\u001b[0;34m\u001b[0m\u001b[0;34m\u001b[0m\u001b[0m\n\u001b[0m\u001b[1;32m      2\u001b[0m \u001b[0;34m.\u001b[0m\u001b[0mprintSchema\u001b[0m\u001b[0;34m(\u001b[0m\u001b[0;34m)\u001b[0m\u001b[0;34m\u001b[0m\u001b[0;34m\u001b[0m\u001b[0m\n",
      "\u001b[0;31mTypeError\u001b[0m: withColumnRenamed() takes 3 positional arguments but 18 were given"
     ]
    }
   ],
   "source": [
    "data2.withColumnRenamed(\"STATION\",\"DATE\",\"SOURCE\",\"LATITUDE\",\"LONGITUDE\",\"ELEVATION\",\"NAME\",\"REPORT_TYPE\", \"CALL_SIGN\",\"QUALITY_CONTROL\",\"WND\",\"CIG\",\"VIS\",\"TMP\",\"DEW\",\"SLP\",\"GF1\")\\\n",
    ".printSchema()"
   ]
  },
  {
   "cell_type": "code",
   "execution_count": 149,
   "metadata": {},
   "outputs": [
    {
     "ename": "ModuleNotFoundError",
     "evalue": "No module named 'spark'",
     "output_type": "error",
     "traceback": [
      "\u001b[0;31m---------------------------------------------------------------------------\u001b[0m",
      "\u001b[0;31mModuleNotFoundError\u001b[0m                       Traceback (most recent call last)",
      "\u001b[0;32m<ipython-input-149-28748bbbd041>\u001b[0m in \u001b[0;36m<module>\u001b[0;34m\u001b[0m\n\u001b[0;32m----> 1\u001b[0;31m \u001b[0;32mimport\u001b[0m \u001b[0mspark\u001b[0m\u001b[0;34m.\u001b[0m\u001b[0mimplicits\u001b[0m\u001b[0;34m.\u001b[0m\u001b[0m_\u001b[0m\u001b[0;34m\u001b[0m\u001b[0;34m\u001b[0m\u001b[0m\n\u001b[0m",
      "\u001b[0;31mModuleNotFoundError\u001b[0m: No module named 'spark'"
     ]
    }
   ],
   "source": [
    "import spark.implicits._"
   ]
  },
  {
   "cell_type": "code",
   "execution_count": 98,
   "metadata": {},
   "outputs": [
    {
     "ename": "ModuleNotFoundError",
     "evalue": "No module named 'spark'",
     "output_type": "error",
     "traceback": [
      "\u001b[0;31m---------------------------------------------------------------------------\u001b[0m",
      "\u001b[0;31mModuleNotFoundError\u001b[0m                       Traceback (most recent call last)",
      "\u001b[0;32m<ipython-input-98-39b93da98b28>\u001b[0m in \u001b[0;36m<module>\u001b[0;34m\u001b[0m\n\u001b[0;32m----> 1\u001b[0;31m \u001b[0;32mimport\u001b[0m \u001b[0mspark\u001b[0m\u001b[0;34m.\u001b[0m\u001b[0mimplicits\u001b[0m\u001b[0;34m.\u001b[0m\u001b[0m_\u001b[0m\u001b[0;34m\u001b[0m\u001b[0;34m\u001b[0m\u001b[0m\n\u001b[0m\u001b[1;32m      2\u001b[0m \u001b[0mdata1\u001b[0m\u001b[0;34m=\u001b[0m\u001b[0mseq\u001b[0m\u001b[0;34m(\u001b[0m\u001b[0mdata\u001b[0m\u001b[0;34m)\u001b[0m\u001b[0;34m.\u001b[0m\u001b[0mtoDF\u001b[0m\u001b[0;34m(\u001b[0m\u001b[0;34m\"STATION\"\u001b[0m\u001b[0;34m,\u001b[0m\u001b[0;34m\"DATE\"\u001b[0m\u001b[0;34m,\u001b[0m\u001b[0;34m\"SOURCE\"\u001b[0m\u001b[0;34m,\u001b[0m\u001b[0;34m\"LATITUDE\"\u001b[0m\u001b[0;34m,\u001b[0m\u001b[0;34m\"LONGITUDE\"\u001b[0m\u001b[0;34m,\u001b[0m\u001b[0;34m\"ELEVATION\"\u001b[0m\u001b[0;34m,\u001b[0m\u001b[0;34m\"NAME\"\u001b[0m\u001b[0;34m,\u001b[0m\u001b[0;34m\"REPORT_TYPE\"\u001b[0m\u001b[0;34m,\u001b[0m\u001b[0;34m\"CALL_SIGN\"\u001b[0m\u001b[0;34m,\u001b[0m\u001b[0;34m\"QUALITY_CONTROL\"\u001b[0m\u001b[0;34m,\u001b[0m\u001b[0;34m\"WND\"\u001b[0m\u001b[0;34m,\u001b[0m\u001b[0;34m\"CIG\"\u001b[0m\u001b[0;34m,\u001b[0m\u001b[0;34m\"VIS\"\u001b[0m\u001b[0;34m,\u001b[0m\u001b[0;34m\"TMP\"\u001b[0m\u001b[0;34m,\u001b[0m\u001b[0;34m\"DEW\"\u001b[0m\u001b[0;34m,\u001b[0m\u001b[0;34m\"SLP\"\u001b[0m\u001b[0;34m,\u001b[0m\u001b[0;34m\"GF1\"\u001b[0m\u001b[0;34m)\u001b[0m\u001b[0;34m\u001b[0m\u001b[0;34m\u001b[0m\u001b[0m\n\u001b[1;32m      3\u001b[0m \u001b[0;31m#\"STATION\",\"DATE\",\"SOURCE\",\"LATITUDE\",\"LONGITUDE\",\"ELEVATION\",\"NAME\",\"REPORT_TYPE\",\"CALL_SIGN\",\"QUALITY_CONTROL\",\"WND\",\"CIG\",\"VIS\",\"TMP\",\"DEW\",\"SLP\",\"GF1\"\u001b[0m\u001b[0;34m\u001b[0m\u001b[0;34m\u001b[0m\u001b[0;34m\u001b[0m\u001b[0m\n",
      "\u001b[0;31mModuleNotFoundError\u001b[0m: No module named 'spark'"
     ]
    }
   ],
   "source": [
    "import spark.implicits._\n",
    "\n",
    "data1=seq(data).toDF(\"STATION\",\"DATE\",\"SOURCE\",\"LATITUDE\",\"LONGITUDE\",\"ELEVATION\",\"NAME\",\"REPORT_TYPE\",\"CALL_SIGN\",\"QUALITY_CONTROL\",\"WND\",\"CIG\",\"VIS\",\"TMP\",\"DEW\",\"SLP\",\"GF1\")\n",
    "#\"STATION\",\"DATE\",\"SOURCE\",\"LATITUDE\",\"LONGITUDE\",\"ELEVATION\",\"NAME\",\"REPORT_TYPE\",\"CALL_SIGN\",\"QUALITY_CONTROL\",\"WND\",\"CIG\",\"VIS\",\"TMP\",\"DEW\",\"SLP\",\"GF1\""
   ]
  },
  {
   "cell_type": "code",
   "execution_count": null,
   "metadata": {},
   "outputs": [],
   "source": [
    "spark = SparkSession.builder.getOrCreate()\n",
    "\n",
    "columns = ['id', 'dogs', 'cats']\n",
    "vals = [(1, 2, 0), (2, 0, 1)]\n",
    "\n",
    "df = spark.createDataFrame(vals, columns)\n",
    "\n",
    "newRow = spark.createDataFrame([(4,5,7)], columns)\n",
    "appended = df.union(newRow)\n",
    "appended.show()"
   ]
  },
  {
   "cell_type": "code",
   "execution_count": null,
   "metadata": {},
   "outputs": [],
   "source": [
    "#Convert Data Type"
   ]
  },
  {
   "cell_type": "code",
   "execution_count": 141,
   "metadata": {},
   "outputs": [],
   "source": [
    "data2_converted=data2.withColumn(\"_c31\", data2[\"_c31\"].cast(\"float\"))"
   ]
  },
  {
   "cell_type": "code",
   "execution_count": 142,
   "metadata": {},
   "outputs": [
    {
     "data": {
      "text/plain": [
       "DataFrame[_c0: string, _c1: string, _c2: string, _c3: string, _c4: string, _c5: string, _c6: string, _c7: string, _c8: string, _c9: string, _c10: string, _c11: string, _c12: string, _c13: string, _c14: string, _c15: string, _c16: string, _c17: string, _c18: string, _c19: string, _c20: string, _c21: string, _c22: string, _c23: string, _c24: string, _c25: string, _c26: string, _c27: string, _c28: string, _c29: string, _c30: string, _c31: float, _c32: string, _c33: string, _c34: string]"
      ]
     },
     "execution_count": 142,
     "metadata": {},
     "output_type": "execute_result"
    }
   ],
   "source": [
    "data2_converted"
   ]
  },
  {
   "cell_type": "code",
   "execution_count": 145,
   "metadata": {},
   "outputs": [
    {
     "name": "stdout",
     "output_type": "stream",
     "text": [
      "+-----------+---------+\n",
      "|        _c0|sum(_c31)|\n",
      "+-----------+---------+\n",
      "|52818099999|     null|\n",
      "|99404199999|     null|\n",
      "|94367099999|     null|\n",
      "|72253512909|     null|\n",
      "|44305099999|     null|\n",
      "|71136099999|     null|\n",
      "|81908099999|     null|\n",
      "|26657099999|     null|\n",
      "|43344099999|     null|\n",
      "|07460099999|     null|\n",
      "|72656604965|     null|\n",
      "|59046099999|     null|\n",
      "|95146099999|     null|\n",
      "|68375099999|     null|\n",
      "|74778099999|     null|\n",
      "|11022099999|     null|\n",
      "|83424099999|     null|\n",
      "|41933099999|     null|\n",
      "|42871099999|     null|\n",
      "|15247099999|     null|\n",
      "+-----------+---------+\n",
      "only showing top 20 rows\n",
      "\n"
     ]
    }
   ],
   "source": [
    "#按station操作\n",
    "#https://sparkbyexamples.com/spark/using-groupby-on-dataframe/\n",
    "data2_converted.groupBy(\"_c0\").sum(\"_c31\").show()\n"
   ]
  },
  {
   "cell_type": "code",
   "execution_count": 147,
   "metadata": {},
   "outputs": [
    {
     "ename": "TypeError",
     "evalue": "'Column' object is not callable",
     "output_type": "error",
     "traceback": [
      "\u001b[0;31m---------------------------------------------------------------------------\u001b[0m",
      "\u001b[0;31mTypeError\u001b[0m                                 Traceback (most recent call last)",
      "\u001b[0;32m<ipython-input-147-4081fbab9aef>\u001b[0m in \u001b[0;36m<module>\u001b[0;34m\u001b[0m\n\u001b[0;32m----> 1\u001b[0;31m \u001b[0mdata2\u001b[0m\u001b[0;34m[\u001b[0m\u001b[0;34m\"_c31\"\u001b[0m\u001b[0;34m]\u001b[0m\u001b[0;34m.\u001b[0m\u001b[0mshow\u001b[0m\u001b[0;34m(\u001b[0m\u001b[0;36m20\u001b[0m\u001b[0;34m)\u001b[0m\u001b[0;34m\u001b[0m\u001b[0;34m\u001b[0m\u001b[0m\n\u001b[0m",
      "\u001b[0;31mTypeError\u001b[0m: 'Column' object is not callable"
     ]
    }
   ],
   "source": [
    "data2[\"_c31\"].show(20)"
   ]
  },
  {
   "cell_type": "code",
   "execution_count": 128,
   "metadata": {},
   "outputs": [],
   "source": [
    "#Drop duplicate rows in pyspark by a specific column\n",
    "data2_dropdup=data2.dropDuplicates((['_c0']))"
   ]
  },
  {
   "cell_type": "code",
   "execution_count": 130,
   "metadata": {},
   "outputs": [
    {
     "data": {
      "text/plain": [
       "173"
      ]
     },
     "execution_count": 130,
     "metadata": {},
     "output_type": "execute_result"
    }
   ],
   "source": [
    "data2_dropdup.count()"
   ]
  },
  {
   "cell_type": "code",
   "execution_count": 136,
   "metadata": {},
   "outputs": [
    {
     "name": "stdout",
     "output_type": "stream",
     "text": [
      "+-----------+-------------------+---+----------+------+------+-------------------+-----+-----+----+--------------+-----------+------------+-------+-------+-------+----------------+---------------+------+--------------------+----+----+----+----+----+----+--------------------+----+----+----+---------------+----------------+----+----+----+\n",
      "|        _c0|                _c1|_c2|       _c3|   _c4|   _c5|                _c6|  _c7|  _c8| _c9|          _c10|       _c11|        _c12|   _c13|   _c14|   _c15|            _c16|           _c17|  _c18|                _c19|_c20|_c21|_c22|_c23|_c24|_c25|                _c26|_c27|_c28|_c29|           _c30|            _c31|_c32|_c33|_c34|\n",
      "+-----------+-------------------+---+----------+------+------+-------------------+-----+-----+----+--------------+-----------+------------+-------+-------+-------+----------------+---------------+------+--------------------+----+----+----+----+----+----+--------------------+----+----+----+---------------+----------------+----+----+----+\n",
      "|52818099999|2019-01-01T00:00:00|  4|36.4166666|  94.9|2809.0|         GOLMUD, CH|FM-12|99999|V020|360,1,N,0000,1|22000,1,9,9|008000,1,9,9|-0135,1|-0227,1|99999,9|     06,9999,9,9|    24,9999,9,9|  null|                null|null|null|null|null|null|null|00,99,1,99,9,99,9...|null|null|null|99999,9,07277,1|7,1,002,1,+010,1|null|null|null|\n",
      "|99404199999|2019-01-01T00:00:00|  4|    37.507|-122.2|   6.0|REDWOOD CITY, CA US|FM-13|99999|V020|010,1,N,0072,1|99999,9,9,N|999999,9,9,9|+0128,1|+9999,9|10170,1|2,1,005,1,+999,9|5,99,0103,1,999|+114,1|SYN080RTYC1 46///...|null|null|null|null|null|null|                null|null|null|null|           null|            null|null|null|null|\n",
      "+-----------+-------------------+---+----------+------+------+-------------------+-----+-----+----+--------------+-----------+------------+-------+-------+-------+----------------+---------------+------+--------------------+----+----+----+----+----+----+--------------------+----+----+----+---------------+----------------+----+----+----+\n",
      "only showing top 2 rows\n",
      "\n"
     ]
    }
   ],
   "source": [
    "data2_dropdup.show(2)"
   ]
  },
  {
   "cell_type": "code",
   "execution_count": 131,
   "metadata": {},
   "outputs": [],
   "source": [
    "# Drop rows with NA or missing values in pyspark\n",
    "data2_dropna=data2_dropdup.dropna()\n",
    "#似乎没必要dropna"
   ]
  },
  {
   "cell_type": "code",
   "execution_count": 132,
   "metadata": {},
   "outputs": [
    {
     "data": {
      "text/plain": [
       "1"
      ]
     },
     "execution_count": 132,
     "metadata": {},
     "output_type": "execute_result"
    }
   ],
   "source": [
    "data2_dropna.count()"
   ]
  },
  {
   "cell_type": "code",
   "execution_count": 134,
   "metadata": {},
   "outputs": [
    {
     "name": "stdout",
     "output_type": "stream",
     "text": [
      "+-----------+-------------------+---+-----+----------+---+-------------+-----+-----+----+--------------+-----------+------------+---------+---------+-------+-----------+--------+--------+----+----+------------------+------------------+------------------+----+--------------------+--------------------+----+----+----+----------------+----+----+--------------------+----+\n",
      "|        _c0|                _c1|_c2|  _c3|       _c4|_c5|          _c6|  _c7|  _c8| _c9|          _c10|       _c11|        _c12|     _c13|     _c14|   _c15|       _c16|    _c17|    _c18|_c19|_c20|              _c21|              _c22|              _c23|_c24|                _c25|                _c26|_c27|_c28|_c29|            _c30|_c31|_c32|                _c33|_c34|\n",
      "+-----------+-------------------+---+-----+----------+---+-------------+-----+-----+----+--------------+-----------+------------+---------+---------+-------+-----------+--------+--------+----+----+------------------+------------------+------------------+----+--------------------+--------------------+----+----+----+----------------+----+----+--------------------+----+\n",
      "|43314099999|2019-07-10T00:00:00|  4|11.25|75.7833333|5.0|KOZHIKODE, IN|FM-12|99999|V020|999,9,C,0000,1|99999,9,9,N|004000,1,9,9|+0228,113|+0228,114|10078,1|21,0800,3,1|6,1,02,1|2,1,02,1|_c19|_c20|03,1,+00800,1,06,1|99,9,+99999,9,03,1|99,9,+99999,9,00,1|_c24|9,MSL   ,+99999,+...|07,99,1,03,1,99,9...|_c27|_c28|_c29|9,9,999,9,-005,1|02,1|_c32|SYN06443314 21596...|_c34|\n",
      "+-----------+-------------------+---+-----+----------+---+-------------+-----+-----+----+--------------+-----------+------------+---------+---------+-------+-----------+--------+--------+----+----+------------------+------------------+------------------+----+--------------------+--------------------+----+----+----+----------------+----+----+--------------------+----+\n",
      "\n"
     ]
    }
   ],
   "source": [
    "data2_dropna.show()"
   ]
  },
  {
   "cell_type": "code",
   "execution_count": 93,
   "metadata": {},
   "outputs": [
    {
     "name": "stdout",
     "output_type": "stream",
     "text": [
      "+-----------+-------------------+---+----------+-----------+-----+--------------------+-----+-----+----+--------------+-----------+------------+---------+---------+-------+-----------+-----------+-----------+----+----+------------------+------------------+------------------+---------------+----------------------+-----------------------------------+----+--------------------+----+----------------+----+----+----------------------------------------------------------------------+----+\n",
      "|43314099999|2019-07-10T00:00:00|  4|     11.25| 75.7833333|  5.0|       KOZHIKODE, IN|FM-12|99999|V020|999,9,C,0000,1|99999,9,9,N|004000,1,9,9|+0228,113|+0228,114|10078,1|21,0800,3,1|   6,1,02,1|   2,1,02,1|_c19|_c20|03,1,+00800,1,06,1|99,9,+99999,9,03,1|99,9,+99999,9,00,1|           _c24|9,MSL   ,+99999,+99999|07,99,1,03,1,99,9,00800,1,99,9,99,9|_c27|                _c28|_c29|9,9,999,9,-005,1|02,1|_c32|SYN06443314 21596 70000 10228 20228 40078 70262 83472 333 59005 6080/=|_c34|\n",
      "+-----------+-------------------+---+----------+-----------+-----+--------------------+-----+-----+----+--------------+-----------+------------+---------+---------+-------+-----------+-----------+-----------+----+----+------------------+------------------+------------------+---------------+----------------------+-----------------------------------+----+--------------------+----+----------------+----+----+----------------------------------------------------------------------+----+\n",
      "|71846099999|2019-09-02T02:00:00|  4|52.1833333|-87.9333333|253.0|LANSDOWNE HOUSE A...|  SAO|99999|V020|340,1,9,0015,1|99999,9,9,9|999999,9,9,9|  +0061,1|  +0031,1|10180,1|       null|       null|       null|null|null|              null|              null|              null|99999,9,09869,5|      1,1,025,1,+999,9|                               null|null|AWY052WLF SA 0200...|null|            null|null|null|                                                                  null|null|\n",
      "|71846099999|2019-09-02T03:00:00|  4|52.1833333|-87.9333333|253.0|LANSDOWNE HOUSE A...|FM-12|99999|V020|323,1,N,0011,1|99999,9,9,9|999999,9,9,9|  +0062,1|  +0037,1|10185,1|01,9999,9,9|06,9999,9,9|24,0002,3,1|null|null|              null|              null|              null|99999,9,09875,1|      1,1,019,1,+999,9|                               null|null|          SYN004BUFR|null|            null|null|null|                                                                  null|null|\n",
      "|71846099999|2019-09-02T03:00:00|  4|52.1833333|-87.9333333|253.0|LANSDOWNE HOUSE A...|  SAO|99999|V020|320,1,9,0010,1|99999,9,9,9|999999,9,9,9|  +0061,1|  +0037,1|10185,1|       null|       null|       null|null|null|              null|              null|              null|99999,9,09874,5|      1,1,019,1,+999,9|                               null|null|AWY052WLF SA 0300...|null|            null|null|null|                                                                  null|null|\n",
      "|71846099999|2019-09-02T04:00:00|  4|52.1833333|-87.9333333|253.0|LANSDOWNE HOUSE A...|  SAO|99999|V020|310,1,9,0015,1|99999,9,9,9|999999,9,9,9|  +0062,1|  +0034,1|10190,1|       null|       null|       null|null|null|              null|              null|              null|99999,9,09879,5|      2,1,016,1,+999,9|                               null|null|AWY052WLF SA 0400...|null|            null|null|null|                                                                  null|null|\n",
      "|71846099999|2019-09-02T05:00:00|  4|52.1833333|-87.9333333|253.0|LANSDOWNE HOUSE A...|  SAO|99999|V020|320,1,9,0015,1|99999,9,9,9|999999,9,9,9|  +0060,1|  +0026,1|10193,1|       null|       null|       null|null|null|              null|              null|              null|99999,9,09882,5|      1,1,014,1,+999,9|                               null|null|AWY052WLF SA 0500...|null|            null|null|null|                                                                  null|null|\n",
      "+-----------+-------------------+---+----------+-----------+-----+--------------------+-----+-----+----+--------------+-----------+------------+---------+---------+-------+-----------+-----------+-----------+----+----+------------------+------------------+------------------+---------------+----------------------+-----------------------------------+----+--------------------+----+----------------+----+----+----------------------------------------------------------------------+----+\n",
      "only showing top 5 rows\n",
      "\n"
     ]
    }
   ],
   "source": [
    "data.show(5)"
   ]
  },
  {
   "cell_type": "code",
   "execution_count": 95,
   "metadata": {},
   "outputs": [
    {
     "name": "stdout",
     "output_type": "stream",
     "text": [
      "root\n",
      " |-- 43314099999: string (nullable = true)\n",
      " |-- 2019-07-10T00:00:00: string (nullable = true)\n",
      " |-- 4: string (nullable = true)\n",
      " |-- 11.25: string (nullable = true)\n",
      " |-- 75.7833333: string (nullable = true)\n",
      " |-- 5.0: string (nullable = true)\n",
      " |-- KOZHIKODE, IN: string (nullable = true)\n",
      " |-- FM-12: string (nullable = true)\n",
      " |-- 99999: string (nullable = true)\n",
      " |-- V020: string (nullable = true)\n",
      " |-- 999,9,C,0000,1: string (nullable = true)\n",
      " |-- 99999,9,9,N: string (nullable = true)\n",
      " |-- 004000,1,9,9: string (nullable = true)\n",
      " |-- +0228,113: string (nullable = true)\n",
      " |-- +0228,114: string (nullable = true)\n",
      " |-- 10078,1: string (nullable = true)\n",
      " |-- 21,0800,3,1: string (nullable = true)\n",
      " |-- 6,1,02,1: string (nullable = true)\n",
      " |-- 2,1,02,1: string (nullable = true)\n",
      " |-- _c19: string (nullable = true)\n",
      " |-- _c20: string (nullable = true)\n",
      " |-- 03,1,+00800,1,06,1: string (nullable = true)\n",
      " |-- 99,9,+99999,9,03,1: string (nullable = true)\n",
      " |-- 99,9,+99999,9,00,1: string (nullable = true)\n",
      " |-- _c24: string (nullable = true)\n",
      " |-- 9,MSL   ,+99999,+99999: string (nullable = true)\n",
      " |-- 07,99,1,03,1,99,9,00800,1,99,9,99,9: string (nullable = true)\n",
      " |-- _c27: string (nullable = true)\n",
      " |-- _c28: string (nullable = true)\n",
      " |-- _c29: string (nullable = true)\n",
      " |-- 9,9,999,9,-005,1: string (nullable = true)\n",
      " |-- 02,1: string (nullable = true)\n",
      " |-- _c32: string (nullable = true)\n",
      " |-- SYN06443314 21596 70000 10228 20228 40078 70262 83472 333 59005 6080/=: string (nullable = true)\n",
      " |-- _c34: string (nullable = true)\n",
      "\n"
     ]
    }
   ],
   "source": [
    "data.printSchema()"
   ]
  },
  {
   "cell_type": "code",
   "execution_count": 96,
   "metadata": {},
   "outputs": [
    {
     "data": {
      "text/plain": [
       "DataFrame[summary: string, 43314099999: string, 2019-07-10T00:00:00: string, 4: string, 11.25: string, 75.7833333: string, 5.0: string, KOZHIKODE, IN: string, FM-12: string, 99999: string, V020: string, 999,9,C,0000,1: string, 99999,9,9,N: string, 004000,1,9,9: string, +0228,113: string, +0228,114: string, 10078,1: string, 21,0800,3,1: string, 6,1,02,1: string, 2,1,02,1: string, _c19: string, _c20: string, 03,1,+00800,1,06,1: string, 99,9,+99999,9,03,1: string, 99,9,+99999,9,00,1: string, _c24: string, 9,MSL   ,+99999,+99999: string, 07,99,1,03,1,99,9,00800,1,99,9,99,9: string, _c27: string, _c28: string, _c29: string, 9,9,999,9,-005,1: string, 02,1: string, _c32: string, SYN06443314 21596 70000 10228 20228 40078 70262 83472 333 59005 6080/=: string, _c34: string]"
      ]
     },
     "execution_count": 96,
     "metadata": {},
     "output_type": "execute_result"
    }
   ],
   "source": [
    "data.describe()"
   ]
  },
  {
   "cell_type": "markdown",
   "metadata": {},
   "source": [
    "## Merge Data"
   ]
  },
  {
   "cell_type": "code",
   "execution_count": 47,
   "metadata": {},
   "outputs": [
    {
     "data": {
      "text/plain": [
       "s3://noaa-global-hourly-pds/1901/02950099999.csv MapPartitionsRDD[8] at textFile at NativeMethodAccessorImpl.java:0"
      ]
     },
     "execution_count": 47,
     "metadata": {},
     "output_type": "execute_result"
    }
   ],
   "source": [
    "rdd"
   ]
  },
  {
   "cell_type": "code",
   "execution_count": 2,
   "metadata": {},
   "outputs": [],
   "source": [
    "s3 = boto3.client('s3')\n",
    "s3_resource = boto3.resource('s3')"
   ]
  },
  {
   "cell_type": "code",
   "execution_count": 3,
   "metadata": {},
   "outputs": [],
   "source": [
    "# def create_bucket(bucket):\n",
    "#     import logging\n",
    "\n",
    "#     try:\n",
    "#         s3.create_bucket(Bucket=bucket)\n",
    "#     except botocore.exceptions.ClientError as e:\n",
    "#         logging.error(e)\n",
    "#         return 'Bucket ' + bucket + ' could not be created.'\n",
    "#     return 'Created or already exists ' + bucket + ' bucket.'"
   ]
  },
  {
   "cell_type": "code",
   "execution_count": 4,
   "metadata": {},
   "outputs": [
    {
     "name": "stderr",
     "output_type": "stream",
     "text": [
      "ERROR:root:An error occurred (BucketAlreadyExists) when calling the CreateBucket operation: The requested bucket name is not available. The bucket namespace is shared by all users of the system. Please select a different name and try again.\n"
     ]
    },
    {
     "data": {
      "text/plain": [
       "'Bucket open-data-noaa could not be created.'"
      ]
     },
     "execution_count": 4,
     "metadata": {},
     "output_type": "execute_result"
    }
   ],
   "source": [
    "#create_bucket('open-data-noaa')"
   ]
  },
  {
   "cell_type": "code",
   "execution_count": 5,
   "metadata": {},
   "outputs": [],
   "source": [
    "def list_buckets(match=''):\n",
    "    response = s3.list_buckets()\n",
    "    if match:\n",
    "        print(f'Existing buckets containing \"{match}\" string:')\n",
    "    else:\n",
    "        print('All existing buckets:')\n",
    "    for bucket in response['Buckets']:\n",
    "        if match:\n",
    "            if match in bucket[\"Name\"]:\n",
    "                print(f'  {bucket[\"Name\"]}')"
   ]
  },
  {
   "cell_type": "code",
   "execution_count": 15,
   "metadata": {},
   "outputs": [
    {
     "data": {
      "text/plain": [
       "{'ResponseMetadata': {'RequestId': '4C6DF56D8448AF7D',\n",
       "  'HostId': 'T3vPu5Ivo2fIB6c/BLDjag3t5nFvkRt84sbwzE6uka1RUacCp2YvkemyxPNCJo/gHL6jEKMEilU=',\n",
       "  'HTTPStatusCode': 200,\n",
       "  'HTTPHeaders': {'x-amz-id-2': 'T3vPu5Ivo2fIB6c/BLDjag3t5nFvkRt84sbwzE6uka1RUacCp2YvkemyxPNCJo/gHL6jEKMEilU=',\n",
       "   'x-amz-request-id': '4C6DF56D8448AF7D',\n",
       "   'date': 'Sun, 19 Apr 2020 22:04:00 GMT',\n",
       "   'content-type': 'application/xml',\n",
       "   'transfer-encoding': 'chunked',\n",
       "   'server': 'AmazonS3'},\n",
       "  'RetryAttempts': 0},\n",
       " 'Buckets': [{'Name': '502hw4',\n",
       "   'CreationDate': datetime.datetime(2020, 3, 27, 1, 29, 29, tzinfo=tzlocal())},\n",
       "  {'Name': '502lab3m233',\n",
       "   'CreationDate': datetime.datetime(2020, 1, 30, 16, 38, 49, tzinfo=tzlocal())},\n",
       "  {'Name': 'aws-logs-270109529444-us-east-1',\n",
       "   'CreationDate': datetime.datetime(2020, 1, 29, 1, 15, 55, tzinfo=tzlocal())},\n",
       "  {'Name': 'noaa-502',\n",
       "   'CreationDate': datetime.datetime(2020, 4, 19, 21, 52, 17, tzinfo=tzlocal())}],\n",
       " 'Owner': {'DisplayName': 'awslabsc0w518423t1575190000',\n",
       "  'ID': '8bbc24a2eb58bb34a95c828b4b47acf911ea0072506687d17edf1e7425a8e751'}}"
      ]
     },
     "execution_count": 15,
     "metadata": {},
     "output_type": "execute_result"
    }
   ],
   "source": [
    "s3.list_buckets()"
   ]
  },
  {
   "cell_type": "code",
   "execution_count": 14,
   "metadata": {},
   "outputs": [
    {
     "name": "stdout",
     "output_type": "stream",
     "text": [
      "Existing buckets containing \"99\" string:\n"
     ]
    }
   ],
   "source": [
    "list_buckets(match='99')"
   ]
  },
  {
   "cell_type": "code",
   "execution_count": 7,
   "metadata": {},
   "outputs": [],
   "source": [
    "def list_bucket_contents(bucket, match='', size_mb=0):\n",
    "    bucket_resource = s3_resource.Bucket(bucket)\n",
    "    total_size_gb = 0\n",
    "    total_files = 0\n",
    "    match_size_gb = 0\n",
    "    match_files = 0\n",
    "    for key in bucket_resource.objects.all():\n",
    "        key_size_mb = key.size/1024/1024\n",
    "        total_size_gb += key_size_mb\n",
    "        total_files += 1\n",
    "        list_check = False\n",
    "        if not match:\n",
    "            list_check = True\n",
    "        elif match in key.key:\n",
    "            list_check = True\n",
    "        if list_check and not size_mb:\n",
    "            match_files += 1\n",
    "            match_size_gb += key_size_mb\n",
    "            print(f'{key.key} ({key_size_mb:3.0f}MB)')\n",
    "        elif list_check and key_size_mb <= size_mb:\n",
    "            match_files += 1\n",
    "            match_size_gb += key_size_mb\n",
    "            print(f'{key.key} ({key_size_mb:3.0f}MB)')\n",
    "\n",
    "    if match:\n",
    "        print(f'Matched file size is {match_size_gb/1024:3.1f}GB with {match_files} files')            \n",
    "    \n",
    "    print(f'Bucket {bucket} total size is {total_size_gb/1024:3.1f}GB with {total_files} files')"
   ]
  },
  {
   "cell_type": "code",
   "execution_count": null,
   "metadata": {},
   "outputs": [],
   "source": [
    "list_bucket_contents(bucket='noaa-isd-pds', match = 'data')"
   ]
  },
  {
   "cell_type": "code",
   "execution_count": null,
   "metadata": {},
   "outputs": [],
   "source": [
    "list_bucket_contents(bucket='noaa-global-hourly-pds', match = '1950')"
   ]
  },
  {
   "cell_type": "code",
   "execution_count": 41,
   "metadata": {},
   "outputs": [],
   "source": [
    "rdd = sc.textFile(\"s3://noaa-global-hourly-pds/1931/12195099999.csv\")"
   ]
  },
  {
   "cell_type": "code",
   "execution_count": 42,
   "metadata": {},
   "outputs": [
    {
     "data": {
      "text/plain": [
       "['\"STATION\",\"DATE\",\"SOURCE\",\"LATITUDE\",\"LONGITUDE\",\"ELEVATION\",\"NAME\",\"REPORT_TYPE\",\"CALL_SIGN\",\"QUALITY_CONTROL\",\"WND\",\"CIG\",\"VIS\",\"TMP\",\"DEW\",\"SLP\",\"AA1\",\"AY1\",\"GF1\",\"IA1\",\"KA1\",\"MD1\",\"MW1\",\"EQD\"',\n",
       " '\"12195099999\",\"1931-01-09T12:00:00\",\"4\",\"54.1333333\",\"22.95\",\"186.0\",\"SUWALKI, PL\",\"FM-12\",\"99999\",\"V020\",\"999,1,C,0000,1\",\"00450,1,C,N\",\"002000,1,N,9\",\"-0050,1\",\"-0056,1\",\"10266,1\",,\"2,1,99,9\",\"99,99,9,08,1,05,1,00450,1,00,1,00,1\",,,,,\"Q01+000032APCTENQ02+000002APC3  \"',\n",
       " '\"12195099999\",\"1931-01-10T12:00:00\",\"4\",\"54.1333333\",\"22.95\",\"186.0\",\"SUWALKI, PL\",\"FM-12\",\"99999\",\"V020\",\"200,1,N,0010,1\",\"00450,1,C,N\",\"002000,1,N,9\",\"-0061,1\",\"-0067,1\",\"10298,1\",,\"2,1,99,9\",\"08,99,1,08,1,05,1,00450,1,00,1,00,1\",,,\"3,1,002,1,+999,9\",,',\n",
       " '\"12195099999\",\"1931-01-13T12:00:00\",\"4\",\"54.1333333\",\"22.95\",\"186.0\",\"SUWALKI, PL\",\"FM-12\",\"99999\",\"V020\",\"180,1,N,0010,1\",\"00780,1,C,N\",\"004000,1,N,9\",\"-0022,1\",\"-0028,1\",\"10111,1\",,\"2,1,99,9\",\"08,99,1,08,1,05,1,00800,1,00,1,00,1\",,,\"8,1,004,1,+999,9\",,',\n",
       " '\"12195099999\",\"1931-01-14T12:00:00\",\"4\",\"54.1333333\",\"22.95\",\"186.0\",\"SUWALKI, PL\",\"FM-12\",\"99999\",\"V020\",\"200,1,N,0010,1\",\"00240,1,C,N\",\"004000,1,N,9\",\"-0022,1\",\"-0028,1\",\"10082,1\",,\"2,1,99,9\",\"08,99,1,08,1,05,1,00250,1,00,1,00,1\",,,,,\"Q01+000032APCTENQ02+000002APC3  \"']"
      ]
     },
     "execution_count": 42,
     "metadata": {},
     "output_type": "execute_result"
    }
   ],
   "source": [
    "rdd.take(5)"
   ]
  },
  {
   "cell_type": "code",
   "execution_count": null,
   "metadata": {},
   "outputs": [],
   "source": []
  }
 ],
 "metadata": {
  "kernelspec": {
   "display_name": "Python 3",
   "language": "python",
   "name": "python3"
  },
  "language_info": {
   "codemirror_mode": {
    "name": "ipython",
    "version": 3
   },
   "file_extension": ".py",
   "mimetype": "text/x-python",
   "name": "python",
   "nbconvert_exporter": "python",
   "pygments_lexer": "ipython3",
   "version": "3.7.6"
  }
 },
 "nbformat": 4,
 "nbformat_minor": 4
}
