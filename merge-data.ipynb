{
 "cells": [
  {
   "cell_type": "markdown",
   "metadata": {},
   "source": [
    "# Create Merged Dataset\n",
    "\n",
    "In this workbook, you will read in the `trip` and `fare` files. You are welcome to use DataFrame and/or SparkSQL API as you desire as long as it produces the expected results.\n",
    "\n",
    "## Instructions:\n",
    "\n",
    "1. Join both datasets such that you get a merged dataset with 21 unique fields. You need to determine how to join the dataset.\n",
    "2. Once you create the merged dataset, you need to convert fields to the following types, since all fields were read is as string:\n",
    "    * pickup_datetime and dropoff_datetime must be TIMESTAMP\n",
    "    * passenger_count and rate_code must be INT\n",
    "    * all other numeric fields must be FLOAT\n",
    "    * the remaining fields stay as STRING\n",
    "3. Save your merged and converted dataset to your own S3 bucket in parquet format.\n",
    "\n",
    "You are welcome to add as many cells as you need below up until the next section. **You must include comments in your code.**"
   ]
  },
  {
   "cell_type": "code",
   "execution_count": 4,
   "metadata": {},
   "outputs": [],
   "source": [
    "import findspark\n",
    "findspark.init()\n",
    "from pyspark import SparkContext\n",
    "sc=SparkContext()"
   ]
  },
  {
   "cell_type": "code",
   "execution_count": 5,
   "metadata": {},
   "outputs": [
    {
     "data": {
      "text/html": [
       "\n",
       "        <div>\n",
       "            <p><b>SparkContext</b></p>\n",
       "\n",
       "            <p><a href=\"http://ip-172-31-25-147.ec2.internal:4040\">Spark UI</a></p>\n",
       "\n",
       "            <dl>\n",
       "              <dt>Version</dt>\n",
       "                <dd><code>v2.4.4</code></dd>\n",
       "              <dt>Master</dt>\n",
       "                <dd><code>yarn</code></dd>\n",
       "              <dt>AppName</dt>\n",
       "                <dd><code>pyspark-shell</code></dd>\n",
       "            </dl>\n",
       "        </div>\n",
       "        "
      ],
      "text/plain": [
       "<SparkContext master=yarn appName=pyspark-shell>"
      ]
     },
     "execution_count": 5,
     "metadata": {},
     "output_type": "execute_result"
    }
   ],
   "source": [
    "sc"
   ]
  },
  {
   "cell_type": "code",
   "execution_count": 8,
   "metadata": {},
   "outputs": [],
   "source": [
    "from pyspark.sql import SparkSession\n",
    "spark=SparkSession.builder.getOrCreate()"
   ]
  },
  {
   "cell_type": "code",
   "execution_count": 9,
   "metadata": {},
   "outputs": [
    {
     "data": {
      "text/html": [
       "\n",
       "            <div>\n",
       "                <p><b>SparkSession - in-memory</b></p>\n",
       "                \n",
       "        <div>\n",
       "            <p><b>SparkContext</b></p>\n",
       "\n",
       "            <p><a href=\"http://ip-172-31-25-147.ec2.internal:4040\">Spark UI</a></p>\n",
       "\n",
       "            <dl>\n",
       "              <dt>Version</dt>\n",
       "                <dd><code>v2.4.4</code></dd>\n",
       "              <dt>Master</dt>\n",
       "                <dd><code>yarn</code></dd>\n",
       "              <dt>AppName</dt>\n",
       "                <dd><code>pyspark-shell</code></dd>\n",
       "            </dl>\n",
       "        </div>\n",
       "        \n",
       "            </div>\n",
       "        "
      ],
      "text/plain": [
       "<pyspark.sql.session.SparkSession at 0x7f3ac1f27d30>"
      ]
     },
     "execution_count": 9,
     "metadata": {},
     "output_type": "execute_result"
    }
   ],
   "source": [
    "spark"
   ]
  },
  {
   "cell_type": "markdown",
   "metadata": {},
   "source": [
    "**Import Data files**"
   ]
  },
  {
   "cell_type": "code",
   "execution_count": 17,
   "metadata": {},
   "outputs": [],
   "source": [
    "trip = spark.read.option(\"header\", \"true\")\\\n",
    "  .parquet(\"s3://bigdatateaching/nyctaxi-2013/parquet/trip\")"
   ]
  },
  {
   "cell_type": "code",
   "execution_count": 22,
   "metadata": {},
   "outputs": [],
   "source": [
    "fare = spark.read.option(\"header\", \"true\")\\\n",
    "  .parquet(\"s3://bigdatateaching/nyctaxi-2013/parquet/fare\")"
   ]
  },
  {
   "cell_type": "markdown",
   "metadata": {},
   "source": [
    "**Data Overview**"
   ]
  },
  {
   "cell_type": "code",
   "execution_count": 18,
   "metadata": {},
   "outputs": [
    {
     "data": {
      "text/plain": [
       "DataFrame[summary: string, medallion: string, hack_license: string, vendor_id: string, rate_code: string, store_and_fwd_flag: string, pickup_datetime: string, dropoff_datetime: string, passenger_count: string, trip_time_in_secs: string, trip_distance: string, pickup_longitude: string, pickup_latitude: string, dropoff_longitude: string, dropoff_latitude: string]"
      ]
     },
     "execution_count": 18,
     "metadata": {},
     "output_type": "execute_result"
    }
   ],
   "source": [
    "trip.describe()"
   ]
  },
  {
   "cell_type": "code",
   "execution_count": 19,
   "metadata": {},
   "outputs": [
    {
     "name": "stdout",
     "output_type": "stream",
     "text": [
      "root\n",
      " |-- medallion: string (nullable = true)\n",
      " |-- hack_license: string (nullable = true)\n",
      " |-- vendor_id: string (nullable = true)\n",
      " |-- rate_code: string (nullable = true)\n",
      " |-- store_and_fwd_flag: string (nullable = true)\n",
      " |-- pickup_datetime: string (nullable = true)\n",
      " |-- dropoff_datetime: string (nullable = true)\n",
      " |-- passenger_count: string (nullable = true)\n",
      " |-- trip_time_in_secs: string (nullable = true)\n",
      " |-- trip_distance: string (nullable = true)\n",
      " |-- pickup_longitude: string (nullable = true)\n",
      " |-- pickup_latitude: string (nullable = true)\n",
      " |-- dropoff_longitude: string (nullable = true)\n",
      " |-- dropoff_latitude: string (nullable = true)\n",
      "\n"
     ]
    }
   ],
   "source": [
    "trip.printSchema()"
   ]
  },
  {
   "cell_type": "code",
   "execution_count": 23,
   "metadata": {},
   "outputs": [
    {
     "name": "stdout",
     "output_type": "stream",
     "text": [
      "+--------------------+--------------------+---------+---------+------------------+-------------------+-------------------+---------------+-----------------+-------------+----------------+---------------+-----------------+----------------+\n",
      "|           medallion|        hack_license|vendor_id|rate_code|store_and_fwd_flag|    pickup_datetime|   dropoff_datetime|passenger_count|trip_time_in_secs|trip_distance|pickup_longitude|pickup_latitude|dropoff_longitude|dropoff_latitude|\n",
      "+--------------------+--------------------+---------+---------+------------------+-------------------+-------------------+---------------+-----------------+-------------+----------------+---------------+-----------------+----------------+\n",
      "|0FBCA8B7F51A9684E...|26AB68D4B482471A2...|      VTS|        1|              null|2013-03-15 07:42:00|2013-03-15 08:05:00|              1|             1380|         3.72|      -73.953934|      40.775021|       -73.993401|       40.747349|\n",
      "|76B07812E69C59D13...|A9B1CD75F0D5A3205...|      VTS|        1|              null|2013-03-15 17:36:00|2013-03-15 17:50:00|              2|              840|         5.01|      -73.971207|      40.750553|       -74.009369|       40.702244|\n",
      "|8BE796EBC7CE941D4...|7923BC72414526A2D...|      VTS|        1|              null|2013-03-16 08:09:00|2013-03-16 08:32:00|              5|             1380|         9.82|      -73.982964|      40.775864|       -73.876579|       40.771278|\n",
      "+--------------------+--------------------+---------+---------+------------------+-------------------+-------------------+---------------+-----------------+-------------+----------------+---------------+-----------------+----------------+\n",
      "only showing top 3 rows\n",
      "\n"
     ]
    }
   ],
   "source": [
    "trip.show(3)"
   ]
  },
  {
   "cell_type": "code",
   "execution_count": 24,
   "metadata": {},
   "outputs": [
    {
     "data": {
      "text/plain": [
       "DataFrame[summary: string, medallion: string, hack_license: string, vendor_id: string, pickup_datetime: string, payment_type: string, fare_amount: string, surcharge: string, mta_tax: string, tip_amount: string, tolls_amount: string, total_amount: string]"
      ]
     },
     "execution_count": 24,
     "metadata": {},
     "output_type": "execute_result"
    }
   ],
   "source": [
    "fare.describe()"
   ]
  },
  {
   "cell_type": "code",
   "execution_count": 25,
   "metadata": {},
   "outputs": [
    {
     "name": "stdout",
     "output_type": "stream",
     "text": [
      "root\n",
      " |-- medallion: string (nullable = true)\n",
      " |-- hack_license: string (nullable = true)\n",
      " |-- vendor_id: string (nullable = true)\n",
      " |-- pickup_datetime: string (nullable = true)\n",
      " |-- payment_type: string (nullable = true)\n",
      " |-- fare_amount: string (nullable = true)\n",
      " |-- surcharge: string (nullable = true)\n",
      " |-- mta_tax: string (nullable = true)\n",
      " |-- tip_amount: string (nullable = true)\n",
      " |-- tolls_amount: string (nullable = true)\n",
      " |-- total_amount: string (nullable = true)\n",
      "\n"
     ]
    }
   ],
   "source": [
    "fare.printSchema()"
   ]
  },
  {
   "cell_type": "code",
   "execution_count": 26,
   "metadata": {},
   "outputs": [
    {
     "name": "stdout",
     "output_type": "stream",
     "text": [
      "+--------------------+--------------------+---------+-------------------+------------+-----------+---------+-------+----------+------------+------------+\n",
      "|           medallion|        hack_license|vendor_id|    pickup_datetime|payment_type|fare_amount|surcharge|mta_tax|tip_amount|tolls_amount|total_amount|\n",
      "+--------------------+--------------------+---------+-------------------+------------+-----------+---------+-------+----------+------------+------------+\n",
      "|180A298786862EA12...|BD9F6B0AED17B9CAB...|      VTS|2013-11-26 09:20:00|         CRD|         14|        0|    0.5|         1|           0|        15.5|\n",
      "|F7F305E5D26B6A1A3...|52C8902960DA72824...|      VTS|2013-11-26 17:27:00|         CSH|       19.5|        1|    0.5|         0|           0|          21|\n",
      "|64996CAE3371608EC...|8099958C7DA1A5601...|      VTS|2013-11-26 15:14:00|         CRD|          6|        0|    0.5|       1.2|           0|         7.7|\n",
      "+--------------------+--------------------+---------+-------------------+------------+-----------+---------+-------+----------+------------+------------+\n",
      "only showing top 3 rows\n",
      "\n"
     ]
    }
   ],
   "source": [
    "fare.show(3)"
   ]
  },
  {
   "cell_type": "markdown",
   "metadata": {},
   "source": [
    "**Merge Dataset**"
   ]
  },
  {
   "cell_type": "code",
   "execution_count": 27,
   "metadata": {},
   "outputs": [],
   "source": [
    "# Create two tables called 'trip_table' and 'fare_table'\n",
    "trip.createOrReplaceTempView(\"trip_table\")\n",
    "fare.createOrReplaceTempView(\"fare_table\")"
   ]
  },
  {
   "cell_type": "code",
   "execution_count": 28,
   "metadata": {},
   "outputs": [],
   "source": [
    "# Join two tables by the variables 'medallion','hack_license' and 'pickup_datetime'\n",
    "# To make sure the 'fare' matches the same 'trip'\n",
    "nyctaxi = spark.sql(\"\"\"\n",
    "SELECT\n",
    "t.medallion              \n",
    ", t.hack_license           \n",
    ", t.vendor_id              \n",
    ", t.pickup_datetime        \n",
    ", f.payment_type           \n",
    ", f.fare_amount            \n",
    ", f.surcharge              \n",
    ", f.mta_tax             \n",
    ", f.tip_amount            \n",
    ", f.tolls_amount           \n",
    ", f.total_amount         \n",
    ", t.rate_code              \n",
    ", t.store_and_fwd_flag     \n",
    ", t.dropoff_datetime       \n",
    ", t.passenger_count     \n",
    ", t.trip_time_in_secs      \n",
    ", t.trip_distance          \n",
    ", t.pickup_longitude       \n",
    ", t.pickup_latitude        \n",
    ", t.dropoff_longitude      \n",
    ", t.dropoff_latitude      \n",
    "FROM trip_table t\n",
    "JOIN fare_table f \n",
    "ON\n",
    "(t.medallion = f.medallion \n",
    "and t.hack_license = f.hack_license \n",
    "and t.pickup_datetime = f.pickup_datetime)\n",
    "\"\"\").cache()"
   ]
  },
  {
   "cell_type": "code",
   "execution_count": 29,
   "metadata": {},
   "outputs": [
    {
     "name": "stdout",
     "output_type": "stream",
     "text": [
      "root\n",
      " |-- medallion: string (nullable = true)\n",
      " |-- hack_license: string (nullable = true)\n",
      " |-- vendor_id: string (nullable = true)\n",
      " |-- pickup_datetime: string (nullable = true)\n",
      " |-- payment_type: string (nullable = true)\n",
      " |-- fare_amount: string (nullable = true)\n",
      " |-- surcharge: string (nullable = true)\n",
      " |-- mta_tax: string (nullable = true)\n",
      " |-- tip_amount: string (nullable = true)\n",
      " |-- tolls_amount: string (nullable = true)\n",
      " |-- total_amount: string (nullable = true)\n",
      " |-- rate_code: string (nullable = true)\n",
      " |-- store_and_fwd_flag: string (nullable = true)\n",
      " |-- dropoff_datetime: string (nullable = true)\n",
      " |-- passenger_count: string (nullable = true)\n",
      " |-- trip_time_in_secs: string (nullable = true)\n",
      " |-- trip_distance: string (nullable = true)\n",
      " |-- pickup_longitude: string (nullable = true)\n",
      " |-- pickup_latitude: string (nullable = true)\n",
      " |-- dropoff_longitude: string (nullable = true)\n",
      " |-- dropoff_latitude: string (nullable = true)\n",
      "\n"
     ]
    }
   ],
   "source": [
    "nyctaxi.printSchema()"
   ]
  },
  {
   "cell_type": "markdown",
   "metadata": {},
   "source": [
    "**Convert Data Type**"
   ]
  },
  {
   "cell_type": "markdown",
   "metadata": {},
   "source": [
    "As you can see from printing the nyctaxi schema, all of the fields were loaded as strings. This will not work for modeling purposes. You need to convert some of the fields to other types."
   ]
  },
  {
   "cell_type": "code",
   "execution_count": 32,
   "metadata": {},
   "outputs": [
    {
     "name": "stdout",
     "output_type": "stream",
     "text": [
      "root\n",
      " |-- medallion: string (nullable = true)\n",
      " |-- hack_license: string (nullable = true)\n",
      " |-- vendor_id: string (nullable = true)\n",
      " |-- pickup_datetime: timestamp (nullable = true)\n",
      " |-- payment_type: string (nullable = true)\n",
      " |-- fare_amount: float (nullable = true)\n",
      " |-- surcharge: float (nullable = true)\n",
      " |-- mta_tax: float (nullable = true)\n",
      " |-- tip_amount: float (nullable = true)\n",
      " |-- tolls_amount: float (nullable = true)\n",
      " |-- total_amount: float (nullable = true)\n",
      " |-- rate_code: string (nullable = true)\n",
      " |-- store_and_fwd_flag: string (nullable = true)\n",
      " |-- dropoff_datetime: timestamp (nullable = true)\n",
      " |-- passenger_count: integer (nullable = true)\n",
      " |-- trip_time_in_secs: integer (nullable = true)\n",
      " |-- trip_distance: float (nullable = true)\n",
      " |-- pickup_longitude: float (nullable = true)\n",
      " |-- pickup_latitude: float (nullable = true)\n",
      " |-- dropoff_longitude: float (nullable = true)\n",
      " |-- dropoff_latitude: float (nullable = true)\n",
      "\n"
     ]
    }
   ],
   "source": [
    "colname_float = [\"trip_distance\",\"pickup_latitude\",\"pickup_longitude\",\"dropoff_latitude\",\"dropoff_longitude\",\"fare_amount\",\"surcharge\",\"mta_tax\",\"tip_amount\",\"tolls_amount\",\"total_amount\"]\n",
    "colname_timestamp = [\"pickup_datetime\",\"dropoff_datetime\"]\n",
    "\n",
    "nyctaxi_converted = nyctaxi.withColumn(\"passenger_count\", nyctaxi[\"passenger_count\"].cast(\"integer\"))\n",
    "nyctaxi_converted = nyctaxi_converted.withColumn(\"trip_time_in_secs\", nyctaxi[\"trip_time_in_secs\"].cast(\"integer\"))\n",
    "\n",
    "\n",
    "for i in colname_float:\n",
    "    nyctaxi_converted = nyctaxi_converted.withColumn(i, nyctaxi[i].cast(\"float\"))\n",
    "    \n",
    "for i in colname_timestamp:\n",
    "    nyctaxi_converted = nyctaxi_converted.withColumn(i, nyctaxi[i].cast(\"timestamp\"))\n",
    "\n",
    "nyctaxi_converted.printSchema()"
   ]
  },
  {
   "cell_type": "markdown",
   "metadata": {},
   "source": [
    "## In the following cells, please provide the requested code and output. Do not change the order and/or structure of the cells.\n",
    "\n",
    "In the next cell, provide the code that saves your merged dataset to your S3 bucket."
   ]
  },
  {
   "cell_type": "code",
   "execution_count": 33,
   "metadata": {},
   "outputs": [],
   "source": [
    "nyctaxi_converted.write.parquet(\"s3://502hw4//merged_data\",mode=\"overwrite\")"
   ]
  },
  {
   "cell_type": "markdown",
   "metadata": {},
   "source": [
    "In the next cell, print the schema of your merged dataset."
   ]
  },
  {
   "cell_type": "code",
   "execution_count": 34,
   "metadata": {},
   "outputs": [
    {
     "name": "stdout",
     "output_type": "stream",
     "text": [
      "root\n",
      " |-- medallion: string (nullable = true)\n",
      " |-- hack_license: string (nullable = true)\n",
      " |-- vendor_id: string (nullable = true)\n",
      " |-- pickup_datetime: timestamp (nullable = true)\n",
      " |-- payment_type: string (nullable = true)\n",
      " |-- fare_amount: float (nullable = true)\n",
      " |-- surcharge: float (nullable = true)\n",
      " |-- mta_tax: float (nullable = true)\n",
      " |-- tip_amount: float (nullable = true)\n",
      " |-- tolls_amount: float (nullable = true)\n",
      " |-- total_amount: float (nullable = true)\n",
      " |-- rate_code: string (nullable = true)\n",
      " |-- store_and_fwd_flag: string (nullable = true)\n",
      " |-- dropoff_datetime: timestamp (nullable = true)\n",
      " |-- passenger_count: integer (nullable = true)\n",
      " |-- trip_time_in_secs: integer (nullable = true)\n",
      " |-- trip_distance: float (nullable = true)\n",
      " |-- pickup_longitude: float (nullable = true)\n",
      " |-- pickup_latitude: float (nullable = true)\n",
      " |-- dropoff_longitude: float (nullable = true)\n",
      " |-- dropoff_latitude: float (nullable = true)\n",
      "\n"
     ]
    }
   ],
   "source": [
    "nyctaxi_converted.printSchema()"
   ]
  },
  {
   "cell_type": "markdown",
   "metadata": {},
   "source": [
    "In the next cell, print the first 10 records of your merged dataset."
   ]
  },
  {
   "cell_type": "code",
   "execution_count": 35,
   "metadata": {},
   "outputs": [
    {
     "name": "stdout",
     "output_type": "stream",
     "text": [
      "+--------------------+--------------------+---------+-------------------+------------+-----------+---------+-------+----------+------------+------------+---------+------------------+-------------------+---------------+-----------------+-------------+----------------+---------------+-----------------+----------------+\n",
      "|           medallion|        hack_license|vendor_id|    pickup_datetime|payment_type|fare_amount|surcharge|mta_tax|tip_amount|tolls_amount|total_amount|rate_code|store_and_fwd_flag|   dropoff_datetime|passenger_count|trip_time_in_secs|trip_distance|pickup_longitude|pickup_latitude|dropoff_longitude|dropoff_latitude|\n",
      "+--------------------+--------------------+---------+-------------------+------------+-----------+---------+-------+----------+------------+------------+---------+------------------+-------------------+---------------+-----------------+-------------+----------------+---------------+-----------------+----------------+\n",
      "|00005007A9F30E289...|0649DA10C83DE7C6A...|      CMT|2013-05-14 21:41:46|         CSH|       10.5|      0.5|    0.5|       0.0|         0.0|        11.5|        1|                 Y|2013-05-14 21:52:49|              1|              663|          2.7|        -73.9876|      40.761337|        -73.95461|        40.76898|\n",
      "|00005007A9F30E289...|16780B3E72BAA7A5C...|      CMT|2013-07-16 18:32:07|         CSH|        7.5|      1.0|    0.5|       0.0|         0.0|         9.0|        1|                 N|2013-07-16 18:41:58|              1|              591|          0.8|       -73.98923|       40.74743|       -73.998184|        40.74895|\n",
      "|00005007A9F30E289...|24C122A944FB8EE21...|      CMT|2013-10-02 12:51:16|         CRD|        8.5|      0.0|    0.5|       1.8|         0.0|        10.8|        1|                 N|2013-10-02 13:03:42|              2|              745|          0.5|       -73.99525|       40.74958|       -73.989494|       40.755898|\n",
      "|00005007A9F30E289...|24C122A944FB8EE21...|      CMT|2013-10-05 11:05:19|         CSH|        6.0|      0.0|    0.5|       0.0|         0.0|         6.5|        1|                 N|2013-10-05 11:10:00|              1|              280|          1.2|       -73.96498|      40.791233|        -73.96191|       40.779648|\n",
      "|00005007A9F30E289...|24C122A944FB8EE21...|      CMT|2013-10-10 11:42:32|         CSH|       17.0|      0.0|    0.5|       0.0|         0.0|        17.5|        1|                 N|2013-10-10 11:54:47|              1|              734|          5.1|       -73.98229|      40.777756|        -73.94243|        40.83687|\n",
      "|00005007A9F30E289...|24C122A944FB8EE21...|      CMT|2013-10-11 13:40:39|         CSH|        6.5|      0.0|    0.5|       0.0|         0.0|         7.0|        1|                 N|2013-10-11 13:47:35|              1|              416|          0.9|       -73.97346|      40.764458|        -73.96326|       40.771683|\n",
      "|00005007A9F30E289...|24C122A944FB8EE21...|      CMT|2013-10-19 14:30:59|         CSH|        5.0|      0.0|    0.5|       0.0|         0.0|         5.5|        1|                 N|2013-10-19 14:35:33|              1|              274|          0.6|       -73.98155|      40.768353|        -73.97345|        40.76437|\n",
      "|00005007A9F30E289...|24C122A944FB8EE21...|      CMT|2013-11-09 14:53:32|         CRD|       24.0|      0.0|    0.5|       4.9|         0.0|        29.4|        1|                 N|2013-11-09 15:14:01|              1|             1228|          7.2|       -74.01281|        40.7167|        -73.96437|       40.807182|\n",
      "|00005007A9F30E289...|24C122A944FB8EE21...|      CMT|2013-11-11 12:30:33|         CRD|        6.0|      0.0|    0.5|       1.3|         0.0|         7.8|        1|                 N|2013-11-11 12:35:17|              1|              284|          0.9|       -74.01484|       40.71418|        -74.01491|       40.707893|\n",
      "|00005007A9F30E289...|24C122A944FB8EE21...|      CMT|2013-11-20 16:07:28|         CSH|        7.5|      1.0|    0.5|       0.0|         0.0|         9.0|        1|                 N|2013-11-20 16:15:29|              1|              480|          1.4|       -73.95694|       40.76803|        -73.95659|        40.78263|\n",
      "+--------------------+--------------------+---------+-------------------+------------+-----------+---------+-------+----------+------------+------------+---------+------------------+-------------------+---------------+-----------------+-------------+----------------+---------------+-----------------+----------------+\n",
      "only showing top 10 rows\n",
      "\n"
     ]
    }
   ],
   "source": [
    "nyctaxi_converted.show(10)"
   ]
  },
  {
   "cell_type": "markdown",
   "metadata": {},
   "source": [
    "In the next cell, print the row count of your merged dataset."
   ]
  },
  {
   "cell_type": "code",
   "execution_count": 36,
   "metadata": {},
   "outputs": [
    {
     "name": "stdout",
     "output_type": "stream",
     "text": [
      "Number of records: 173185091\n"
     ]
    }
   ],
   "source": [
    "print(\"Number of records: \" + str(nyctaxi_converted.count()))"
   ]
  }
 ],
 "metadata": {
  "anaconda-cloud": {},
  "celltoolbar": "Raw Cell Format",
  "kernelspec": {
   "display_name": "Python 3",
   "language": "python",
   "name": "python3"
  },
  "language_info": {
   "codemirror_mode": {
    "name": "ipython",
    "version": 3
   },
   "file_extension": ".py",
   "mimetype": "text/x-python",
   "name": "python",
   "nbconvert_exporter": "python",
   "pygments_lexer": "ipython3",
   "version": "3.6.10"
  }
 },
 "nbformat": 4,
 "nbformat_minor": 4
}
